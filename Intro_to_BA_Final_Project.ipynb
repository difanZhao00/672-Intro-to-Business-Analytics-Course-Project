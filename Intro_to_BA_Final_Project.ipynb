{
  "cells": [
    {
      "cell_type": "code",
      "execution_count": null,
      "metadata": {
        "id": "C54leS73Rl_8"
      },
      "outputs": [],
      "source": [
        "# import libraries\n",
        "import os\n",
        "\n",
        "import pandas as pd\n",
        "import numpy as np\n",
        "import matplotlib.pyplot as plt\n",
        "import statsmodels.api as sm\n",
        "\n",
        "from sklearn import linear_model\n",
        "from sklearn import model_selection\n",
        "from sklearn import metrics\n",
        "from sklearn import neighbors\n",
        "from sklearn import pipeline\n",
        "from sklearn import preprocessing\n",
        "from sklearn import pipeline\n",
        "from sklearn import tree\n",
        "\n",
        "random_state=42"
      ]
    },
    {
      "cell_type": "code",
      "execution_count": null,
      "metadata": {
        "colab": {
          "base_uri": "https://localhost:8080/"
        },
        "id": "TLko00TTnv2L",
        "outputId": "7230cd16-629c-430e-e7f6-c7aefd78f0ee"
      },
      "outputs": [
        {
          "output_type": "stream",
          "name": "stdout",
          "text": [
            "Drive already mounted at /content/drive; to attempt to forcibly remount, call drive.mount(\"/content/drive\", force_remount=True).\n"
          ]
        }
      ],
      "source": [
        "from google.colab import drive\n",
        "drive.mount('/content/drive')"
      ]
    },
    {
      "cell_type": "markdown",
      "metadata": {
        "id": "rW8MLkp1RB8V"
      },
      "source": [
        "# Data Understanding\n",
        "Source: https://www.kaggle.com/datasets/shubhambathwal/flight-price-prediction"
      ]
    },
    {
      "cell_type": "code",
      "execution_count": null,
      "metadata": {
        "colab": {
          "base_uri": "https://localhost:8080/",
          "height": 206
        },
        "id": "H3yqaJsZRbxb",
        "outputId": "ec70d3ba-4996-44b6-ad21-6130d9cb79ce"
      },
      "outputs": [
        {
          "output_type": "execute_result",
          "data": {
            "text/plain": [
              "   Unnamed: 0   airline   flight source_city departure_time stops  \\\n",
              "0           0  SpiceJet  SG-8709       Delhi        Evening  zero   \n",
              "1           1  SpiceJet  SG-8157       Delhi  Early_Morning  zero   \n",
              "2           2   AirAsia   I5-764       Delhi  Early_Morning  zero   \n",
              "3           3   Vistara   UK-995       Delhi        Morning  zero   \n",
              "4           4   Vistara   UK-963       Delhi        Morning  zero   \n",
              "\n",
              "    arrival_time destination_city    class  duration  days_left  price  \n",
              "0          Night           Mumbai  Economy      2.17          1   5953  \n",
              "1        Morning           Mumbai  Economy      2.33          1   5953  \n",
              "2  Early_Morning           Mumbai  Economy      2.17          1   5956  \n",
              "3      Afternoon           Mumbai  Economy      2.25          1   5955  \n",
              "4        Morning           Mumbai  Economy      2.33          1   5955  "
            ],
            "text/html": [
              "\n",
              "  <div id=\"df-e7559607-4305-4acc-83f4-46da1c888085\">\n",
              "    <div class=\"colab-df-container\">\n",
              "      <div>\n",
              "<style scoped>\n",
              "    .dataframe tbody tr th:only-of-type {\n",
              "        vertical-align: middle;\n",
              "    }\n",
              "\n",
              "    .dataframe tbody tr th {\n",
              "        vertical-align: top;\n",
              "    }\n",
              "\n",
              "    .dataframe thead th {\n",
              "        text-align: right;\n",
              "    }\n",
              "</style>\n",
              "<table border=\"1\" class=\"dataframe\">\n",
              "  <thead>\n",
              "    <tr style=\"text-align: right;\">\n",
              "      <th></th>\n",
              "      <th>Unnamed: 0</th>\n",
              "      <th>airline</th>\n",
              "      <th>flight</th>\n",
              "      <th>source_city</th>\n",
              "      <th>departure_time</th>\n",
              "      <th>stops</th>\n",
              "      <th>arrival_time</th>\n",
              "      <th>destination_city</th>\n",
              "      <th>class</th>\n",
              "      <th>duration</th>\n",
              "      <th>days_left</th>\n",
              "      <th>price</th>\n",
              "    </tr>\n",
              "  </thead>\n",
              "  <tbody>\n",
              "    <tr>\n",
              "      <th>0</th>\n",
              "      <td>0</td>\n",
              "      <td>SpiceJet</td>\n",
              "      <td>SG-8709</td>\n",
              "      <td>Delhi</td>\n",
              "      <td>Evening</td>\n",
              "      <td>zero</td>\n",
              "      <td>Night</td>\n",
              "      <td>Mumbai</td>\n",
              "      <td>Economy</td>\n",
              "      <td>2.17</td>\n",
              "      <td>1</td>\n",
              "      <td>5953</td>\n",
              "    </tr>\n",
              "    <tr>\n",
              "      <th>1</th>\n",
              "      <td>1</td>\n",
              "      <td>SpiceJet</td>\n",
              "      <td>SG-8157</td>\n",
              "      <td>Delhi</td>\n",
              "      <td>Early_Morning</td>\n",
              "      <td>zero</td>\n",
              "      <td>Morning</td>\n",
              "      <td>Mumbai</td>\n",
              "      <td>Economy</td>\n",
              "      <td>2.33</td>\n",
              "      <td>1</td>\n",
              "      <td>5953</td>\n",
              "    </tr>\n",
              "    <tr>\n",
              "      <th>2</th>\n",
              "      <td>2</td>\n",
              "      <td>AirAsia</td>\n",
              "      <td>I5-764</td>\n",
              "      <td>Delhi</td>\n",
              "      <td>Early_Morning</td>\n",
              "      <td>zero</td>\n",
              "      <td>Early_Morning</td>\n",
              "      <td>Mumbai</td>\n",
              "      <td>Economy</td>\n",
              "      <td>2.17</td>\n",
              "      <td>1</td>\n",
              "      <td>5956</td>\n",
              "    </tr>\n",
              "    <tr>\n",
              "      <th>3</th>\n",
              "      <td>3</td>\n",
              "      <td>Vistara</td>\n",
              "      <td>UK-995</td>\n",
              "      <td>Delhi</td>\n",
              "      <td>Morning</td>\n",
              "      <td>zero</td>\n",
              "      <td>Afternoon</td>\n",
              "      <td>Mumbai</td>\n",
              "      <td>Economy</td>\n",
              "      <td>2.25</td>\n",
              "      <td>1</td>\n",
              "      <td>5955</td>\n",
              "    </tr>\n",
              "    <tr>\n",
              "      <th>4</th>\n",
              "      <td>4</td>\n",
              "      <td>Vistara</td>\n",
              "      <td>UK-963</td>\n",
              "      <td>Delhi</td>\n",
              "      <td>Morning</td>\n",
              "      <td>zero</td>\n",
              "      <td>Morning</td>\n",
              "      <td>Mumbai</td>\n",
              "      <td>Economy</td>\n",
              "      <td>2.33</td>\n",
              "      <td>1</td>\n",
              "      <td>5955</td>\n",
              "    </tr>\n",
              "  </tbody>\n",
              "</table>\n",
              "</div>\n",
              "      <button class=\"colab-df-convert\" onclick=\"convertToInteractive('df-e7559607-4305-4acc-83f4-46da1c888085')\"\n",
              "              title=\"Convert this dataframe to an interactive table.\"\n",
              "              style=\"display:none;\">\n",
              "        \n",
              "  <svg xmlns=\"http://www.w3.org/2000/svg\" height=\"24px\"viewBox=\"0 0 24 24\"\n",
              "       width=\"24px\">\n",
              "    <path d=\"M0 0h24v24H0V0z\" fill=\"none\"/>\n",
              "    <path d=\"M18.56 5.44l.94 2.06.94-2.06 2.06-.94-2.06-.94-.94-2.06-.94 2.06-2.06.94zm-11 1L8.5 8.5l.94-2.06 2.06-.94-2.06-.94L8.5 2.5l-.94 2.06-2.06.94zm10 10l.94 2.06.94-2.06 2.06-.94-2.06-.94-.94-2.06-.94 2.06-2.06.94z\"/><path d=\"M17.41 7.96l-1.37-1.37c-.4-.4-.92-.59-1.43-.59-.52 0-1.04.2-1.43.59L10.3 9.45l-7.72 7.72c-.78.78-.78 2.05 0 2.83L4 21.41c.39.39.9.59 1.41.59.51 0 1.02-.2 1.41-.59l7.78-7.78 2.81-2.81c.8-.78.8-2.07 0-2.86zM5.41 20L4 18.59l7.72-7.72 1.47 1.35L5.41 20z\"/>\n",
              "  </svg>\n",
              "      </button>\n",
              "      \n",
              "  <style>\n",
              "    .colab-df-container {\n",
              "      display:flex;\n",
              "      flex-wrap:wrap;\n",
              "      gap: 12px;\n",
              "    }\n",
              "\n",
              "    .colab-df-convert {\n",
              "      background-color: #E8F0FE;\n",
              "      border: none;\n",
              "      border-radius: 50%;\n",
              "      cursor: pointer;\n",
              "      display: none;\n",
              "      fill: #1967D2;\n",
              "      height: 32px;\n",
              "      padding: 0 0 0 0;\n",
              "      width: 32px;\n",
              "    }\n",
              "\n",
              "    .colab-df-convert:hover {\n",
              "      background-color: #E2EBFA;\n",
              "      box-shadow: 0px 1px 2px rgba(60, 64, 67, 0.3), 0px 1px 3px 1px rgba(60, 64, 67, 0.15);\n",
              "      fill: #174EA6;\n",
              "    }\n",
              "\n",
              "    [theme=dark] .colab-df-convert {\n",
              "      background-color: #3B4455;\n",
              "      fill: #D2E3FC;\n",
              "    }\n",
              "\n",
              "    [theme=dark] .colab-df-convert:hover {\n",
              "      background-color: #434B5C;\n",
              "      box-shadow: 0px 1px 3px 1px rgba(0, 0, 0, 0.15);\n",
              "      filter: drop-shadow(0px 1px 2px rgba(0, 0, 0, 0.3));\n",
              "      fill: #FFFFFF;\n",
              "    }\n",
              "  </style>\n",
              "\n",
              "      <script>\n",
              "        const buttonEl =\n",
              "          document.querySelector('#df-e7559607-4305-4acc-83f4-46da1c888085 button.colab-df-convert');\n",
              "        buttonEl.style.display =\n",
              "          google.colab.kernel.accessAllowed ? 'block' : 'none';\n",
              "\n",
              "        async function convertToInteractive(key) {\n",
              "          const element = document.querySelector('#df-e7559607-4305-4acc-83f4-46da1c888085');\n",
              "          const dataTable =\n",
              "            await google.colab.kernel.invokeFunction('convertToInteractive',\n",
              "                                                     [key], {});\n",
              "          if (!dataTable) return;\n",
              "\n",
              "          const docLinkHtml = 'Like what you see? Visit the ' +\n",
              "            '<a target=\"_blank\" href=https://colab.research.google.com/notebooks/data_table.ipynb>data table notebook</a>'\n",
              "            + ' to learn more about interactive tables.';\n",
              "          element.innerHTML = '';\n",
              "          dataTable['output_type'] = 'display_data';\n",
              "          await google.colab.output.renderOutput(dataTable, element);\n",
              "          const docLink = document.createElement('div');\n",
              "          docLink.innerHTML = docLinkHtml;\n",
              "          element.appendChild(docLink);\n",
              "        }\n",
              "      </script>\n",
              "    </div>\n",
              "  </div>\n",
              "  "
            ]
          },
          "metadata": {},
          "execution_count": 699
        }
      ],
      "source": [
        "# data import\n",
        "path = '/content/drive/MyDrive/'\n",
        "file_name = 'flight_data.csv'\n",
        "file_path = os.path.join(path, file_name)\n",
        "\n",
        "df = pd.read_csv(file_path)\n",
        "\n",
        "df.head()"
      ]
    },
    {
      "cell_type": "code",
      "execution_count": null,
      "metadata": {
        "colab": {
          "base_uri": "https://localhost:8080/"
        },
        "id": "1hWw_kFwReMd",
        "outputId": "3fee5908-9a0f-49d4-fb30-d31dc46c2273"
      },
      "outputs": [
        {
          "output_type": "stream",
          "name": "stdout",
          "text": [
            "<class 'pandas.core.frame.DataFrame'>\n",
            "RangeIndex: 300153 entries, 0 to 300152\n",
            "Data columns (total 12 columns):\n",
            " #   Column            Non-Null Count   Dtype  \n",
            "---  ------            --------------   -----  \n",
            " 0   Unnamed: 0        300153 non-null  int64  \n",
            " 1   airline           300153 non-null  object \n",
            " 2   flight            300153 non-null  object \n",
            " 3   source_city       300153 non-null  object \n",
            " 4   departure_time    300153 non-null  object \n",
            " 5   stops             300153 non-null  object \n",
            " 6   arrival_time      300153 non-null  object \n",
            " 7   destination_city  300153 non-null  object \n",
            " 8   class             300153 non-null  object \n",
            " 9   duration          300153 non-null  float64\n",
            " 10  days_left         300153 non-null  int64  \n",
            " 11  price             300153 non-null  int64  \n",
            "dtypes: float64(1), int64(3), object(8)\n",
            "memory usage: 27.5+ MB\n"
          ]
        }
      ],
      "source": [
        "df.info()"
      ]
    },
    {
      "cell_type": "markdown",
      "metadata": {
        "id": "7Uq5VLMNUcib"
      },
      "source": [
        "**Initial Insights:**\n",
        "* 300,153 values\n",
        "* 12 columns (including a redundant index). \n",
        "* No null values.\n",
        "* target variable: 'price'\n",
        "* regression problem\n",
        "\n"
      ]
    },
    {
      "cell_type": "markdown",
      "metadata": {
        "id": "xKQHvPB3S0CG"
      },
      "source": [
        "## Categorical"
      ]
    },
    {
      "cell_type": "code",
      "execution_count": null,
      "metadata": {
        "id": "vQSXZYiIlOd_"
      },
      "outputs": [],
      "source": [
        "def create_categorical_barcharts(col, data=df):\n",
        "  df[col].value_counts().plot(kind='barh', xlabel = 'value', ylabel='count', stacked=True, title = '{} count'.format(col))\n",
        "  plt.rcParams[\"figure.figsize\"] = (20,3)\n",
        "  plt.show()\n",
        "\n",
        "\n",
        "  df[col].value_counts(normalize=True).plot(kind='barh', xlabel = 'value', ylabel='proportion', title = '{} proportion'.format(col))\n",
        "  plt.rcParams[\"figure.figsize\"] = (20,3)\n",
        "  plt.show()\n"
      ]
    },
    {
      "cell_type": "code",
      "execution_count": null,
      "metadata": {
        "colab": {
          "base_uri": "https://localhost:8080/",
          "height": 437
        },
        "id": "Kg-dlXYeTbk0",
        "outputId": "63cdb9b5-2d5b-40b1-cbcd-13f7bd8bb997"
      },
      "outputs": [
        {
          "output_type": "display_data",
          "data": {
            "text/plain": [
              "<Figure size 1440x216 with 1 Axes>"
            ],
            "image/png": "[encoded data removed]"
          },
          "metadata": {
            "needs_background": "light"
          }
        },
        {
          "output_type": "display_data",
          "data": {
            "text/plain": [
              "<Figure size 1440x216 with 1 Axes>"
            ],
            "image/png": "[encoded data removed]"
          },
          "metadata": {
            "needs_background": "light"
          }
        }
      ],
      "source": [
        "create_categorical_barcharts('airline')"
      ]
    },
    {
      "cell_type": "code",
      "execution_count": null,
      "metadata": {
        "colab": {
          "base_uri": "https://localhost:8080/",
          "height": 437
        },
        "id": "hYzBrSUyTuNQ",
        "outputId": "547bd57a-a096-4c2e-c548-c7c4aad26a61"
      },
      "outputs": [
        {
          "output_type": "display_data",
          "data": {
            "text/plain": [
              "<Figure size 1440x216 with 1 Axes>"
            ],
            "image/png": "[encoded data removed]"
          },
          "metadata": {
            "needs_background": "light"
          }
        },
        {
          "output_type": "display_data",
          "data": {
            "text/plain": [
              "<Figure size 1440x216 with 1 Axes>"
            ],
            "image/png": "[encoded data removed]"
          },
          "metadata": {
            "needs_background": "light"
          }
        }
      ],
      "source": [
        "create_categorical_barcharts('source_city')"
      ]
    },
    {
      "cell_type": "code",
      "execution_count": null,
      "metadata": {
        "colab": {
          "base_uri": "https://localhost:8080/",
          "height": 437
        },
        "id": "QsT5zK7ZTyX8",
        "outputId": "2fe2e37b-1ec9-4198-bf81-04e129efbafa"
      },
      "outputs": [
        {
          "output_type": "display_data",
          "data": {
            "text/plain": [
              "<Figure size 1440x216 with 1 Axes>"
            ],
            "image/png": "[encoded data removed]"
          },
          "metadata": {
            "needs_background": "light"
          }
        },
        {
          "output_type": "display_data",
          "data": {
            "text/plain": [
              "<Figure size 1440x216 with 1 Axes>"
            ],
            "image/png": "[encoded data removed]"
          },
          "metadata": {
            "needs_background": "light"
          }
        }
      ],
      "source": [
        "create_categorical_barcharts('destination_city')"
      ]
    },
    {
      "cell_type": "code",
      "execution_count": null,
      "metadata": {
        "colab": {
          "base_uri": "https://localhost:8080/",
          "height": 437
        },
        "id": "kUR5Yc2TULfE",
        "outputId": "aaa1b3d0-49b9-472c-cb76-bd28f07e7e46"
      },
      "outputs": [
        {
          "output_type": "display_data",
          "data": {
            "text/plain": [
              "<Figure size 1440x216 with 1 Axes>"
            ],
            "image/png": "[encoded data removed]"
          },
          "metadata": {
            "needs_background": "light"
          }
        },
        {
          "output_type": "display_data",
          "data": {
            "text/plain": [
              "<Figure size 1440x216 with 1 Axes>"
            ],
            "image/png": "[encoded data removed]"
          },
          "metadata": {
            "needs_background": "light"
          }
        }
      ],
      "source": [
        "create_categorical_barcharts('stops')"
      ]
    },
    {
      "cell_type": "code",
      "execution_count": null,
      "metadata": {
        "colab": {
          "base_uri": "https://localhost:8080/",
          "height": 437
        },
        "id": "fyplfcEAXU4-",
        "outputId": "812487c6-5b4b-45f0-f801-b0d312fd5d6b"
      },
      "outputs": [
        {
          "output_type": "display_data",
          "data": {
            "text/plain": [
              "<Figure size 1440x216 with 1 Axes>"
            ],
            "image/png": "[encoded data removed]"
          },
          "metadata": {
            "needs_background": "light"
          }
        },
        {
          "output_type": "display_data",
          "data": {
            "text/plain": [
              "<Figure size 1440x216 with 1 Axes>"
            ],
            "image/png": "[encoded data removed]"
          },
          "metadata": {
            "needs_background": "light"
          }
        }
      ],
      "source": [
        "create_categorical_barcharts('class')"
      ]
    },
    {
      "cell_type": "code",
      "execution_count": null,
      "metadata": {
        "colab": {
          "base_uri": "https://localhost:8080/",
          "height": 437
        },
        "id": "TGRrnVF_YKfl",
        "outputId": "885d0b61-ace8-48de-f47f-bb6c6a26a8fb"
      },
      "outputs": [
        {
          "output_type": "display_data",
          "data": {
            "text/plain": [
              "<Figure size 1440x216 with 1 Axes>"
            ],
            "image/png": "[encoded data removed]"
          },
          "metadata": {
            "needs_background": "light"
          }
        },
        {
          "output_type": "display_data",
          "data": {
            "text/plain": [
              "<Figure size 1440x216 with 1 Axes>"
            ],
            "image/png": "[encoded data removed]"
          },
          "metadata": {
            "needs_background": "light"
          }
        }
      ],
      "source": [
        "create_categorical_barcharts('departure_time')"
      ]
    },
    {
      "cell_type": "code",
      "execution_count": null,
      "metadata": {
        "colab": {
          "base_uri": "https://localhost:8080/",
          "height": 437
        },
        "id": "viyr7Ja3YKh1",
        "outputId": "500b58ed-5852-4d00-95c8-189747337b4a"
      },
      "outputs": [
        {
          "output_type": "display_data",
          "data": {
            "text/plain": [
              "<Figure size 1440x216 with 1 Axes>"
            ],
            "image/png": "[encoded data removed]"
          },
          "metadata": {
            "needs_background": "light"
          }
        },
        {
          "output_type": "display_data",
          "data": {
            "text/plain": [
              "<Figure size 1440x216 with 1 Axes>"
            ],
            "image/png": "[encoded data removed]"
          },
          "metadata": {
            "needs_background": "light"
          }
        }
      ],
      "source": [
        "create_categorical_barcharts('arrival_time')"
      ]
    },
    {
      "cell_type": "markdown",
      "metadata": {
        "id": "tm5SLIqJZkyG"
      },
      "source": [
        "## Numerical"
      ]
    },
    {
      "cell_type": "code",
      "execution_count": null,
      "metadata": {
        "colab": {
          "base_uri": "https://localhost:8080/",
          "height": 301
        },
        "id": "odCDcy4CB5Kh",
        "outputId": "02a22752-13c8-4af8-b8e7-a0d8f76a5491"
      },
      "outputs": [
        {
          "output_type": "execute_result",
          "data": {
            "text/plain": [
              "           days_left       duration          price\n",
              "count  300153.000000  300153.000000  300153.000000\n",
              "mean       26.004751      12.221021   20889.660523\n",
              "std        13.561004       7.191997   22697.767366\n",
              "min         1.000000       0.830000    1105.000000\n",
              "25%        15.000000       6.830000    4783.000000\n",
              "50%        26.000000      11.250000    7425.000000\n",
              "75%        38.000000      16.170000   42521.000000\n",
              "max        49.000000      49.830000  123071.000000"
            ],
            "text/html": [
              "\n",
              "  <div id=\"df-c140d637-619a-4ce0-811d-8c7461339faf\">\n",
              "    <div class=\"colab-df-container\">\n",
              "      <div>\n",
              "<style scoped>\n",
              "    .dataframe tbody tr th:only-of-type {\n",
              "        vertical-align: middle;\n",
              "    }\n",
              "\n",
              "    .dataframe tbody tr th {\n",
              "        vertical-align: top;\n",
              "    }\n",
              "\n",
              "    .dataframe thead th {\n",
              "        text-align: right;\n",
              "    }\n",
              "</style>\n",
              "<table border=\"1\" class=\"dataframe\">\n",
              "  <thead>\n",
              "    <tr style=\"text-align: right;\">\n",
              "      <th></th>\n",
              "      <th>days_left</th>\n",
              "      <th>duration</th>\n",
              "      <th>price</th>\n",
              "    </tr>\n",
              "  </thead>\n",
              "  <tbody>\n",
              "    <tr>\n",
              "      <th>count</th>\n",
              "      <td>300153.000000</td>\n",
              "      <td>300153.000000</td>\n",
              "      <td>300153.000000</td>\n",
              "    </tr>\n",
              "    <tr>\n",
              "      <th>mean</th>\n",
              "      <td>26.004751</td>\n",
              "      <td>12.221021</td>\n",
              "      <td>20889.660523</td>\n",
              "    </tr>\n",
              "    <tr>\n",
              "      <th>std</th>\n",
              "      <td>13.561004</td>\n",
              "      <td>7.191997</td>\n",
              "      <td>22697.767366</td>\n",
              "    </tr>\n",
              "    <tr>\n",
              "      <th>min</th>\n",
              "      <td>1.000000</td>\n",
              "      <td>0.830000</td>\n",
              "      <td>1105.000000</td>\n",
              "    </tr>\n",
              "    <tr>\n",
              "      <th>25%</th>\n",
              "      <td>15.000000</td>\n",
              "      <td>6.830000</td>\n",
              "      <td>4783.000000</td>\n",
              "    </tr>\n",
              "    <tr>\n",
              "      <th>50%</th>\n",
              "      <td>26.000000</td>\n",
              "      <td>11.250000</td>\n",
              "      <td>7425.000000</td>\n",
              "    </tr>\n",
              "    <tr>\n",
              "      <th>75%</th>\n",
              "      <td>38.000000</td>\n",
              "      <td>16.170000</td>\n",
              "      <td>42521.000000</td>\n",
              "    </tr>\n",
              "    <tr>\n",
              "      <th>max</th>\n",
              "      <td>49.000000</td>\n",
              "      <td>49.830000</td>\n",
              "      <td>123071.000000</td>\n",
              "    </tr>\n",
              "  </tbody>\n",
              "</table>\n",
              "</div>\n",
              "      <button class=\"colab-df-convert\" onclick=\"convertToInteractive('df-c140d637-619a-4ce0-811d-8c7461339faf')\"\n",
              "              title=\"Convert this dataframe to an interactive table.\"\n",
              "              style=\"display:none;\">\n",
              "        \n",
              "  <svg xmlns=\"http://www.w3.org/2000/svg\" height=\"24px\"viewBox=\"0 0 24 24\"\n",
              "       width=\"24px\">\n",
              "    <path d=\"M0 0h24v24H0V0z\" fill=\"none\"/>\n",
              "    <path d=\"M18.56 5.44l.94 2.06.94-2.06 2.06-.94-2.06-.94-.94-2.06-.94 2.06-2.06.94zm-11 1L8.5 8.5l.94-2.06 2.06-.94-2.06-.94L8.5 2.5l-.94 2.06-2.06.94zm10 10l.94 2.06.94-2.06 2.06-.94-2.06-.94-.94-2.06-.94 2.06-2.06.94z\"/><path d=\"M17.41 7.96l-1.37-1.37c-.4-.4-.92-.59-1.43-.59-.52 0-1.04.2-1.43.59L10.3 9.45l-7.72 7.72c-.78.78-.78 2.05 0 2.83L4 21.41c.39.39.9.59 1.41.59.51 0 1.02-.2 1.41-.59l7.78-7.78 2.81-2.81c.8-.78.8-2.07 0-2.86zM5.41 20L4 18.59l7.72-7.72 1.47 1.35L5.41 20z\"/>\n",
              "  </svg>\n",
              "      </button>\n",
              "      \n",
              "  <style>\n",
              "    .colab-df-container {\n",
              "      display:flex;\n",
              "      flex-wrap:wrap;\n",
              "      gap: 12px;\n",
              "    }\n",
              "\n",
              "    .colab-df-convert {\n",
              "      background-color: #E8F0FE;\n",
              "      border: none;\n",
              "      border-radius: 50%;\n",
              "      cursor: pointer;\n",
              "      display: none;\n",
              "      fill: #1967D2;\n",
              "      height: 32px;\n",
              "      padding: 0 0 0 0;\n",
              "      width: 32px;\n",
              "    }\n",
              "\n",
              "    .colab-df-convert:hover {\n",
              "      background-color: #E2EBFA;\n",
              "      box-shadow: 0px 1px 2px rgba(60, 64, 67, 0.3), 0px 1px 3px 1px rgba(60, 64, 67, 0.15);\n",
              "      fill: #174EA6;\n",
              "    }\n",
              "\n",
              "    [theme=dark] .colab-df-convert {\n",
              "      background-color: #3B4455;\n",
              "      fill: #D2E3FC;\n",
              "    }\n",
              "\n",
              "    [theme=dark] .colab-df-convert:hover {\n",
              "      background-color: #434B5C;\n",
              "      box-shadow: 0px 1px 3px 1px rgba(0, 0, 0, 0.15);\n",
              "      filter: drop-shadow(0px 1px 2px rgba(0, 0, 0, 0.3));\n",
              "      fill: #FFFFFF;\n",
              "    }\n",
              "  </style>\n",
              "\n",
              "      <script>\n",
              "        const buttonEl =\n",
              "          document.querySelector('#df-c140d637-619a-4ce0-811d-8c7461339faf button.colab-df-convert');\n",
              "        buttonEl.style.display =\n",
              "          google.colab.kernel.accessAllowed ? 'block' : 'none';\n",
              "\n",
              "        async function convertToInteractive(key) {\n",
              "          const element = document.querySelector('#df-c140d637-619a-4ce0-811d-8c7461339faf');\n",
              "          const dataTable =\n",
              "            await google.colab.kernel.invokeFunction('convertToInteractive',\n",
              "                                                     [key], {});\n",
              "          if (!dataTable) return;\n",
              "\n",
              "          const docLinkHtml = 'Like what you see? Visit the ' +\n",
              "            '<a target=\"_blank\" href=https://colab.research.google.com/notebooks/data_table.ipynb>data table notebook</a>'\n",
              "            + ' to learn more about interactive tables.';\n",
              "          element.innerHTML = '';\n",
              "          dataTable['output_type'] = 'display_data';\n",
              "          await google.colab.output.renderOutput(dataTable, element);\n",
              "          const docLink = document.createElement('div');\n",
              "          docLink.innerHTML = docLinkHtml;\n",
              "          element.appendChild(docLink);\n",
              "        }\n",
              "      </script>\n",
              "    </div>\n",
              "  </div>\n",
              "  "
            ]
          },
          "metadata": {},
          "execution_count": 709
        }
      ],
      "source": [
        "num_cols = ['days_left', 'duration', 'price']\n",
        "\n",
        "# statistical distributions\n",
        "df[num_cols].describe()"
      ]
    },
    {
      "cell_type": "code",
      "execution_count": null,
      "metadata": {
        "id": "TCs16kddZoEB"
      },
      "outputs": [],
      "source": [
        "def get_numerical_distribution(col, bins=30, data=df):\n",
        "  data[col].plot(kind='box', vert=False, title = '{} Distribution'.format(col))\n",
        "  plt.show()\n",
        "\n",
        "  # histogram with bins=30 to show distribution\n",
        "  plt.hist(data[col], edgecolor=\"black\", bins=bins)\n",
        "  plt.xlabel(col)\n",
        "  plt.ylabel(\"count\")\n",
        "  plt.show()"
      ]
    },
    {
      "cell_type": "code",
      "execution_count": null,
      "metadata": {
        "colab": {
          "base_uri": "https://localhost:8080/",
          "height": 436
        },
        "id": "6FQHUh2bZopD",
        "outputId": "f23e7fd2-682c-40ea-ee26-356e77b3fc52"
      },
      "outputs": [
        {
          "output_type": "display_data",
          "data": {
            "text/plain": [
              "<Figure size 1440x216 with 1 Axes>"
            ],
            "image/png": "[encoded data removed]"
          },
          "metadata": {
            "needs_background": "light"
          }
        },
        {
          "output_type": "display_data",
          "data": {
            "text/plain": [
              "<Figure size 1440x216 with 1 Axes>"
            ],
            "image/png": "[encoded data removed]"
          },
          "metadata": {
            "needs_background": "light"
          }
        }
      ],
      "source": [
        "get_numerical_distribution('days_left')"
      ]
    },
    {
      "cell_type": "code",
      "execution_count": null,
      "metadata": {
        "colab": {
          "base_uri": "https://localhost:8080/",
          "height": 436
        },
        "id": "Wwol0KHjZor0",
        "outputId": "43728945-5864-45f0-8ed1-e6295f0f68b4"
      },
      "outputs": [
        {
          "output_type": "display_data",
          "data": {
            "text/plain": [
              "<Figure size 1440x216 with 1 Axes>"
            ],
            "image/png": "[encoded data removed]"
          },
          "metadata": {
            "needs_background": "light"
          }
        },
        {
          "output_type": "display_data",
          "data": {
            "text/plain": [
              "<Figure size 1440x216 with 1 Axes>"
            ],
            "image/png": "[encoded data removed]"
          },
          "metadata": {
            "needs_background": "light"
          }
        }
      ],
      "source": [
        "get_numerical_distribution('duration')"
      ]
    },
    {
      "cell_type": "code",
      "execution_count": null,
      "metadata": {
        "colab": {
          "base_uri": "https://localhost:8080/",
          "height": 435
        },
        "id": "IovNPtZgZpKe",
        "outputId": "07176d5a-4396-44ba-f15f-623699514172"
      },
      "outputs": [
        {
          "output_type": "display_data",
          "data": {
            "text/plain": [
              "<Figure size 1440x216 with 1 Axes>"
            ],
            "image/png": "[encoded data removed]"
          },
          "metadata": {
            "needs_background": "light"
          }
        },
        {
          "output_type": "display_data",
          "data": {
            "text/plain": [
              "<Figure size 1440x216 with 1 Axes>"
            ],
            "image/png": "[encoded data removed]"
          },
          "metadata": {
            "needs_background": "light"
          }
        }
      ],
      "source": [
        "# distribution of price\n",
        "get_numerical_distribution('price')"
      ]
    },
    {
      "cell_type": "markdown",
      "source": [
        "Price has a bimodal distribution"
      ],
      "metadata": {
        "id": "glXaPbZstIaa"
      }
    },
    {
      "cell_type": "code",
      "execution_count": null,
      "metadata": {
        "colab": {
          "base_uri": "https://localhost:8080/",
          "height": 144
        },
        "id": "MV_Z1jaDbFJ6",
        "outputId": "362482df-439a-4b04-a404-9924d408de68"
      },
      "outputs": [
        {
          "output_type": "execute_result",
          "data": {
            "text/plain": [
              "<pandas.io.formats.style.Styler at 0x7f497ac81e90>"
            ],
            "text/html": [
              "<style type=\"text/css\">\n",
              "#T_f69d1_row0_col0, #T_f69d1_row1_col1, #T_f69d1_row2_col2 {\n",
              "  background-color: #ffffff;\n",
              "  color: #000000;\n",
              "}\n",
              "#T_f69d1_row0_col1, #T_f69d1_row0_col2, #T_f69d1_row2_col0 {\n",
              "  background-color: #000000;\n",
              "  color: #f1f1f1;\n",
              "}\n",
              "#T_f69d1_row1_col0 {\n",
              "  background-color: #0c0c0c;\n",
              "  color: #f1f1f1;\n",
              "}\n",
              "#T_f69d1_row1_col2 {\n",
              "  background-color: #454545;\n",
              "  color: #f1f1f1;\n",
              "}\n",
              "#T_f69d1_row2_col1 {\n",
              "  background-color: #3b3b3b;\n",
              "  color: #f1f1f1;\n",
              "}\n",
              "</style>\n",
              "<table id=\"T_f69d1_\" class=\"dataframe\">\n",
              "  <thead>\n",
              "    <tr>\n",
              "      <th class=\"blank level0\" >&nbsp;</th>\n",
              "      <th class=\"col_heading level0 col0\" >days_left</th>\n",
              "      <th class=\"col_heading level0 col1\" >duration</th>\n",
              "      <th class=\"col_heading level0 col2\" >price</th>\n",
              "    </tr>\n",
              "  </thead>\n",
              "  <tbody>\n",
              "    <tr>\n",
              "      <th id=\"T_f69d1_level0_row0\" class=\"row_heading level0 row0\" >days_left</th>\n",
              "      <td id=\"T_f69d1_row0_col0\" class=\"data row0 col0\" >1.000000</td>\n",
              "      <td id=\"T_f69d1_row0_col1\" class=\"data row0 col1\" >-0.039157</td>\n",
              "      <td id=\"T_f69d1_row0_col2\" class=\"data row0 col2\" >-0.091949</td>\n",
              "    </tr>\n",
              "    <tr>\n",
              "      <th id=\"T_f69d1_level0_row1\" class=\"row_heading level0 row1\" >duration</th>\n",
              "      <td id=\"T_f69d1_row1_col0\" class=\"data row1 col0\" >-0.039157</td>\n",
              "      <td id=\"T_f69d1_row1_col1\" class=\"data row1 col1\" >1.000000</td>\n",
              "      <td id=\"T_f69d1_row1_col2\" class=\"data row1 col2\" >0.204222</td>\n",
              "    </tr>\n",
              "    <tr>\n",
              "      <th id=\"T_f69d1_level0_row2\" class=\"row_heading level0 row2\" >price</th>\n",
              "      <td id=\"T_f69d1_row2_col0\" class=\"data row2 col0\" >-0.091949</td>\n",
              "      <td id=\"T_f69d1_row2_col1\" class=\"data row2 col1\" >0.204222</td>\n",
              "      <td id=\"T_f69d1_row2_col2\" class=\"data row2 col2\" >1.000000</td>\n",
              "    </tr>\n",
              "  </tbody>\n",
              "</table>\n"
            ]
          },
          "metadata": {},
          "execution_count": 714
        }
      ],
      "source": [
        "corr = df[num_cols].corr()\n",
        "corr.style.background_gradient(cmap='gray')"
      ]
    },
    {
      "cell_type": "code",
      "execution_count": null,
      "metadata": {
        "colab": {
          "base_uri": "https://localhost:8080/",
          "height": 206
        },
        "id": "lGUz4FWdxyBW",
        "outputId": "7f7f5c4c-d51b-4905-95d3-0dd4ee996a7c"
      },
      "outputs": [
        {
          "output_type": "execute_result",
          "data": {
            "text/plain": [
              "   Unnamed: 0   airline   flight source_city departure_time stops  \\\n",
              "0           0  SpiceJet  SG-8709       Delhi        Evening  zero   \n",
              "1           1  SpiceJet  SG-8157       Delhi  Early_Morning  zero   \n",
              "2           2   AirAsia   I5-764       Delhi  Early_Morning  zero   \n",
              "3           3   Vistara   UK-995       Delhi        Morning  zero   \n",
              "4           4   Vistara   UK-963       Delhi        Morning  zero   \n",
              "\n",
              "    arrival_time destination_city    class  duration  days_left  price  \n",
              "0          Night           Mumbai  Economy      2.17          1   5953  \n",
              "1        Morning           Mumbai  Economy      2.33          1   5953  \n",
              "2  Early_Morning           Mumbai  Economy      2.17          1   5956  \n",
              "3      Afternoon           Mumbai  Economy      2.25          1   5955  \n",
              "4        Morning           Mumbai  Economy      2.33          1   5955  "
            ],
            "text/html": [
              "\n",
              "  <div id=\"df-d83a1250-a1ea-4a5d-a55f-af08ecfc8252\">\n",
              "    <div class=\"colab-df-container\">\n",
              "      <div>\n",
              "<style scoped>\n",
              "    .dataframe tbody tr th:only-of-type {\n",
              "        vertical-align: middle;\n",
              "    }\n",
              "\n",
              "    .dataframe tbody tr th {\n",
              "        vertical-align: top;\n",
              "    }\n",
              "\n",
              "    .dataframe thead th {\n",
              "        text-align: right;\n",
              "    }\n",
              "</style>\n",
              "<table border=\"1\" class=\"dataframe\">\n",
              "  <thead>\n",
              "    <tr style=\"text-align: right;\">\n",
              "      <th></th>\n",
              "      <th>Unnamed: 0</th>\n",
              "      <th>airline</th>\n",
              "      <th>flight</th>\n",
              "      <th>source_city</th>\n",
              "      <th>departure_time</th>\n",
              "      <th>stops</th>\n",
              "      <th>arrival_time</th>\n",
              "      <th>destination_city</th>\n",
              "      <th>class</th>\n",
              "      <th>duration</th>\n",
              "      <th>days_left</th>\n",
              "      <th>price</th>\n",
              "    </tr>\n",
              "  </thead>\n",
              "  <tbody>\n",
              "    <tr>\n",
              "      <th>0</th>\n",
              "      <td>0</td>\n",
              "      <td>SpiceJet</td>\n",
              "      <td>SG-8709</td>\n",
              "      <td>Delhi</td>\n",
              "      <td>Evening</td>\n",
              "      <td>zero</td>\n",
              "      <td>Night</td>\n",
              "      <td>Mumbai</td>\n",
              "      <td>Economy</td>\n",
              "      <td>2.17</td>\n",
              "      <td>1</td>\n",
              "      <td>5953</td>\n",
              "    </tr>\n",
              "    <tr>\n",
              "      <th>1</th>\n",
              "      <td>1</td>\n",
              "      <td>SpiceJet</td>\n",
              "      <td>SG-8157</td>\n",
              "      <td>Delhi</td>\n",
              "      <td>Early_Morning</td>\n",
              "      <td>zero</td>\n",
              "      <td>Morning</td>\n",
              "      <td>Mumbai</td>\n",
              "      <td>Economy</td>\n",
              "      <td>2.33</td>\n",
              "      <td>1</td>\n",
              "      <td>5953</td>\n",
              "    </tr>\n",
              "    <tr>\n",
              "      <th>2</th>\n",
              "      <td>2</td>\n",
              "      <td>AirAsia</td>\n",
              "      <td>I5-764</td>\n",
              "      <td>Delhi</td>\n",
              "      <td>Early_Morning</td>\n",
              "      <td>zero</td>\n",
              "      <td>Early_Morning</td>\n",
              "      <td>Mumbai</td>\n",
              "      <td>Economy</td>\n",
              "      <td>2.17</td>\n",
              "      <td>1</td>\n",
              "      <td>5956</td>\n",
              "    </tr>\n",
              "    <tr>\n",
              "      <th>3</th>\n",
              "      <td>3</td>\n",
              "      <td>Vistara</td>\n",
              "      <td>UK-995</td>\n",
              "      <td>Delhi</td>\n",
              "      <td>Morning</td>\n",
              "      <td>zero</td>\n",
              "      <td>Afternoon</td>\n",
              "      <td>Mumbai</td>\n",
              "      <td>Economy</td>\n",
              "      <td>2.25</td>\n",
              "      <td>1</td>\n",
              "      <td>5955</td>\n",
              "    </tr>\n",
              "    <tr>\n",
              "      <th>4</th>\n",
              "      <td>4</td>\n",
              "      <td>Vistara</td>\n",
              "      <td>UK-963</td>\n",
              "      <td>Delhi</td>\n",
              "      <td>Morning</td>\n",
              "      <td>zero</td>\n",
              "      <td>Morning</td>\n",
              "      <td>Mumbai</td>\n",
              "      <td>Economy</td>\n",
              "      <td>2.33</td>\n",
              "      <td>1</td>\n",
              "      <td>5955</td>\n",
              "    </tr>\n",
              "  </tbody>\n",
              "</table>\n",
              "</div>\n",
              "      <button class=\"colab-df-convert\" onclick=\"convertToInteractive('df-d83a1250-a1ea-4a5d-a55f-af08ecfc8252')\"\n",
              "              title=\"Convert this dataframe to an interactive table.\"\n",
              "              style=\"display:none;\">\n",
              "        \n",
              "  <svg xmlns=\"http://www.w3.org/2000/svg\" height=\"24px\"viewBox=\"0 0 24 24\"\n",
              "       width=\"24px\">\n",
              "    <path d=\"M0 0h24v24H0V0z\" fill=\"none\"/>\n",
              "    <path d=\"M18.56 5.44l.94 2.06.94-2.06 2.06-.94-2.06-.94-.94-2.06-.94 2.06-2.06.94zm-11 1L8.5 8.5l.94-2.06 2.06-.94-2.06-.94L8.5 2.5l-.94 2.06-2.06.94zm10 10l.94 2.06.94-2.06 2.06-.94-2.06-.94-.94-2.06-.94 2.06-2.06.94z\"/><path d=\"M17.41 7.96l-1.37-1.37c-.4-.4-.92-.59-1.43-.59-.52 0-1.04.2-1.43.59L10.3 9.45l-7.72 7.72c-.78.78-.78 2.05 0 2.83L4 21.41c.39.39.9.59 1.41.59.51 0 1.02-.2 1.41-.59l7.78-7.78 2.81-2.81c.8-.78.8-2.07 0-2.86zM5.41 20L4 18.59l7.72-7.72 1.47 1.35L5.41 20z\"/>\n",
              "  </svg>\n",
              "      </button>\n",
              "      \n",
              "  <style>\n",
              "    .colab-df-container {\n",
              "      display:flex;\n",
              "      flex-wrap:wrap;\n",
              "      gap: 12px;\n",
              "    }\n",
              "\n",
              "    .colab-df-convert {\n",
              "      background-color: #E8F0FE;\n",
              "      border: none;\n",
              "      border-radius: 50%;\n",
              "      cursor: pointer;\n",
              "      display: none;\n",
              "      fill: #1967D2;\n",
              "      height: 32px;\n",
              "      padding: 0 0 0 0;\n",
              "      width: 32px;\n",
              "    }\n",
              "\n",
              "    .colab-df-convert:hover {\n",
              "      background-color: #E2EBFA;\n",
              "      box-shadow: 0px 1px 2px rgba(60, 64, 67, 0.3), 0px 1px 3px 1px rgba(60, 64, 67, 0.15);\n",
              "      fill: #174EA6;\n",
              "    }\n",
              "\n",
              "    [theme=dark] .colab-df-convert {\n",
              "      background-color: #3B4455;\n",
              "      fill: #D2E3FC;\n",
              "    }\n",
              "\n",
              "    [theme=dark] .colab-df-convert:hover {\n",
              "      background-color: #434B5C;\n",
              "      box-shadow: 0px 1px 3px 1px rgba(0, 0, 0, 0.15);\n",
              "      filter: drop-shadow(0px 1px 2px rgba(0, 0, 0, 0.3));\n",
              "      fill: #FFFFFF;\n",
              "    }\n",
              "  </style>\n",
              "\n",
              "      <script>\n",
              "        const buttonEl =\n",
              "          document.querySelector('#df-d83a1250-a1ea-4a5d-a55f-af08ecfc8252 button.colab-df-convert');\n",
              "        buttonEl.style.display =\n",
              "          google.colab.kernel.accessAllowed ? 'block' : 'none';\n",
              "\n",
              "        async function convertToInteractive(key) {\n",
              "          const element = document.querySelector('#df-d83a1250-a1ea-4a5d-a55f-af08ecfc8252');\n",
              "          const dataTable =\n",
              "            await google.colab.kernel.invokeFunction('convertToInteractive',\n",
              "                                                     [key], {});\n",
              "          if (!dataTable) return;\n",
              "\n",
              "          const docLinkHtml = 'Like what you see? Visit the ' +\n",
              "            '<a target=\"_blank\" href=https://colab.research.google.com/notebooks/data_table.ipynb>data table notebook</a>'\n",
              "            + ' to learn more about interactive tables.';\n",
              "          element.innerHTML = '';\n",
              "          dataTable['output_type'] = 'display_data';\n",
              "          await google.colab.output.renderOutput(dataTable, element);\n",
              "          const docLink = document.createElement('div');\n",
              "          docLink.innerHTML = docLinkHtml;\n",
              "          element.appendChild(docLink);\n",
              "        }\n",
              "      </script>\n",
              "    </div>\n",
              "  </div>\n",
              "  "
            ]
          },
          "metadata": {},
          "execution_count": 715
        }
      ],
      "source": [
        "# split into business and travel\n",
        "df_economy = df.loc[df['class'] == 'Economy'].copy()\n",
        "df_business = df.loc[df['class'] == 'Business'].copy()\n",
        "\n",
        "df_economy.head()"
      ]
    },
    {
      "cell_type": "code",
      "execution_count": null,
      "metadata": {
        "colab": {
          "base_uri": "https://localhost:8080/",
          "height": 435
        },
        "id": "Erb4-i3WxyIU",
        "outputId": "d082f444-8c5a-4f96-dd7d-864af2738808"
      },
      "outputs": [
        {
          "output_type": "display_data",
          "data": {
            "text/plain": [
              "<Figure size 1440x216 with 1 Axes>"
            ],
            "image/png": "[encoded data removed]"
          },
          "metadata": {
            "needs_background": "light"
          }
        },
        {
          "output_type": "display_data",
          "data": {
            "text/plain": [
              "<Figure size 1440x216 with 1 Axes>"
            ],
            "image/png": "[encoded data removed]"
          },
          "metadata": {
            "needs_background": "light"
          }
        }
      ],
      "source": [
        "# distribution of price\n",
        "get_numerical_distribution('price', data=df_economy)"
      ]
    },
    {
      "cell_type": "code",
      "execution_count": null,
      "metadata": {
        "colab": {
          "base_uri": "https://localhost:8080/",
          "height": 435
        },
        "id": "EgZyUissyC-C",
        "outputId": "a452a716-fe75-484d-8a4f-22aa15050855"
      },
      "outputs": [
        {
          "output_type": "display_data",
          "data": {
            "text/plain": [
              "<Figure size 1440x216 with 1 Axes>"
            ],
            "image/png": "[encoded data removed]"
          },
          "metadata": {
            "needs_background": "light"
          }
        },
        {
          "output_type": "display_data",
          "data": {
            "text/plain": [
              "<Figure size 1440x216 with 1 Axes>"
            ],
            "image/png": "[encoded data removed]"
          },
          "metadata": {
            "needs_background": "light"
          }
        }
      ],
      "source": [
        "# distribution of price\n",
        "get_numerical_distribution('price', data=df_business)"
      ]
    },
    {
      "cell_type": "markdown",
      "metadata": {
        "id": "AMkJw-_2QZYP"
      },
      "source": [
        "# Data Preparation"
      ]
    },
    {
      "cell_type": "markdown",
      "metadata": {
        "id": "gFpRN6Bzc-iR"
      },
      "source": [
        "## Cleaning"
      ]
    },
    {
      "cell_type": "code",
      "execution_count": null,
      "metadata": {
        "colab": {
          "base_uri": "https://localhost:8080/",
          "height": 206
        },
        "id": "wvwldX8ZRjXR",
        "outputId": "e0b73157-8fb0-45ce-8d6b-2182e4c74d17"
      },
      "outputs": [
        {
          "output_type": "execute_result",
          "data": {
            "text/plain": [
              "    airline source_city departure_time stops   arrival_time destination_city  \\\n",
              "0  SpiceJet       Delhi        Evening  zero          Night           Mumbai   \n",
              "1  SpiceJet       Delhi  Early_Morning  zero        Morning           Mumbai   \n",
              "2   AirAsia       Delhi  Early_Morning  zero  Early_Morning           Mumbai   \n",
              "3   Vistara       Delhi        Morning  zero      Afternoon           Mumbai   \n",
              "4   Vistara       Delhi        Morning  zero        Morning           Mumbai   \n",
              "\n",
              "     class  duration  days_left  price  \n",
              "0  Economy      2.17          1   5953  \n",
              "1  Economy      2.33          1   5953  \n",
              "2  Economy      2.17          1   5956  \n",
              "3  Economy      2.25          1   5955  \n",
              "4  Economy      2.33          1   5955  "
            ],
            "text/html": [
              "\n",
              "  <div id=\"df-5d8b9c3f-00af-46f9-9780-5c54f0347ef9\">\n",
              "    <div class=\"colab-df-container\">\n",
              "      <div>\n",
              "<style scoped>\n",
              "    .dataframe tbody tr th:only-of-type {\n",
              "        vertical-align: middle;\n",
              "    }\n",
              "\n",
              "    .dataframe tbody tr th {\n",
              "        vertical-align: top;\n",
              "    }\n",
              "\n",
              "    .dataframe thead th {\n",
              "        text-align: right;\n",
              "    }\n",
              "</style>\n",
              "<table border=\"1\" class=\"dataframe\">\n",
              "  <thead>\n",
              "    <tr style=\"text-align: right;\">\n",
              "      <th></th>\n",
              "      <th>airline</th>\n",
              "      <th>source_city</th>\n",
              "      <th>departure_time</th>\n",
              "      <th>stops</th>\n",
              "      <th>arrival_time</th>\n",
              "      <th>destination_city</th>\n",
              "      <th>class</th>\n",
              "      <th>duration</th>\n",
              "      <th>days_left</th>\n",
              "      <th>price</th>\n",
              "    </tr>\n",
              "  </thead>\n",
              "  <tbody>\n",
              "    <tr>\n",
              "      <th>0</th>\n",
              "      <td>SpiceJet</td>\n",
              "      <td>Delhi</td>\n",
              "      <td>Evening</td>\n",
              "      <td>zero</td>\n",
              "      <td>Night</td>\n",
              "      <td>Mumbai</td>\n",
              "      <td>Economy</td>\n",
              "      <td>2.17</td>\n",
              "      <td>1</td>\n",
              "      <td>5953</td>\n",
              "    </tr>\n",
              "    <tr>\n",
              "      <th>1</th>\n",
              "      <td>SpiceJet</td>\n",
              "      <td>Delhi</td>\n",
              "      <td>Early_Morning</td>\n",
              "      <td>zero</td>\n",
              "      <td>Morning</td>\n",
              "      <td>Mumbai</td>\n",
              "      <td>Economy</td>\n",
              "      <td>2.33</td>\n",
              "      <td>1</td>\n",
              "      <td>5953</td>\n",
              "    </tr>\n",
              "    <tr>\n",
              "      <th>2</th>\n",
              "      <td>AirAsia</td>\n",
              "      <td>Delhi</td>\n",
              "      <td>Early_Morning</td>\n",
              "      <td>zero</td>\n",
              "      <td>Early_Morning</td>\n",
              "      <td>Mumbai</td>\n",
              "      <td>Economy</td>\n",
              "      <td>2.17</td>\n",
              "      <td>1</td>\n",
              "      <td>5956</td>\n",
              "    </tr>\n",
              "    <tr>\n",
              "      <th>3</th>\n",
              "      <td>Vistara</td>\n",
              "      <td>Delhi</td>\n",
              "      <td>Morning</td>\n",
              "      <td>zero</td>\n",
              "      <td>Afternoon</td>\n",
              "      <td>Mumbai</td>\n",
              "      <td>Economy</td>\n",
              "      <td>2.25</td>\n",
              "      <td>1</td>\n",
              "      <td>5955</td>\n",
              "    </tr>\n",
              "    <tr>\n",
              "      <th>4</th>\n",
              "      <td>Vistara</td>\n",
              "      <td>Delhi</td>\n",
              "      <td>Morning</td>\n",
              "      <td>zero</td>\n",
              "      <td>Morning</td>\n",
              "      <td>Mumbai</td>\n",
              "      <td>Economy</td>\n",
              "      <td>2.33</td>\n",
              "      <td>1</td>\n",
              "      <td>5955</td>\n",
              "    </tr>\n",
              "  </tbody>\n",
              "</table>\n",
              "</div>\n",
              "      <button class=\"colab-df-convert\" onclick=\"convertToInteractive('df-5d8b9c3f-00af-46f9-9780-5c54f0347ef9')\"\n",
              "              title=\"Convert this dataframe to an interactive table.\"\n",
              "              style=\"display:none;\">\n",
              "        \n",
              "  <svg xmlns=\"http://www.w3.org/2000/svg\" height=\"24px\"viewBox=\"0 0 24 24\"\n",
              "       width=\"24px\">\n",
              "    <path d=\"M0 0h24v24H0V0z\" fill=\"none\"/>\n",
              "    <path d=\"M18.56 5.44l.94 2.06.94-2.06 2.06-.94-2.06-.94-.94-2.06-.94 2.06-2.06.94zm-11 1L8.5 8.5l.94-2.06 2.06-.94-2.06-.94L8.5 2.5l-.94 2.06-2.06.94zm10 10l.94 2.06.94-2.06 2.06-.94-2.06-.94-.94-2.06-.94 2.06-2.06.94z\"/><path d=\"M17.41 7.96l-1.37-1.37c-.4-.4-.92-.59-1.43-.59-.52 0-1.04.2-1.43.59L10.3 9.45l-7.72 7.72c-.78.78-.78 2.05 0 2.83L4 21.41c.39.39.9.59 1.41.59.51 0 1.02-.2 1.41-.59l7.78-7.78 2.81-2.81c.8-.78.8-2.07 0-2.86zM5.41 20L4 18.59l7.72-7.72 1.47 1.35L5.41 20z\"/>\n",
              "  </svg>\n",
              "      </button>\n",
              "      \n",
              "  <style>\n",
              "    .colab-df-container {\n",
              "      display:flex;\n",
              "      flex-wrap:wrap;\n",
              "      gap: 12px;\n",
              "    }\n",
              "\n",
              "    .colab-df-convert {\n",
              "      background-color: #E8F0FE;\n",
              "      border: none;\n",
              "      border-radius: 50%;\n",
              "      cursor: pointer;\n",
              "      display: none;\n",
              "      fill: #1967D2;\n",
              "      height: 32px;\n",
              "      padding: 0 0 0 0;\n",
              "      width: 32px;\n",
              "    }\n",
              "\n",
              "    .colab-df-convert:hover {\n",
              "      background-color: #E2EBFA;\n",
              "      box-shadow: 0px 1px 2px rgba(60, 64, 67, 0.3), 0px 1px 3px 1px rgba(60, 64, 67, 0.15);\n",
              "      fill: #174EA6;\n",
              "    }\n",
              "\n",
              "    [theme=dark] .colab-df-convert {\n",
              "      background-color: #3B4455;\n",
              "      fill: #D2E3FC;\n",
              "    }\n",
              "\n",
              "    [theme=dark] .colab-df-convert:hover {\n",
              "      background-color: #434B5C;\n",
              "      box-shadow: 0px 1px 3px 1px rgba(0, 0, 0, 0.15);\n",
              "      filter: drop-shadow(0px 1px 2px rgba(0, 0, 0, 0.3));\n",
              "      fill: #FFFFFF;\n",
              "    }\n",
              "  </style>\n",
              "\n",
              "      <script>\n",
              "        const buttonEl =\n",
              "          document.querySelector('#df-5d8b9c3f-00af-46f9-9780-5c54f0347ef9 button.colab-df-convert');\n",
              "        buttonEl.style.display =\n",
              "          google.colab.kernel.accessAllowed ? 'block' : 'none';\n",
              "\n",
              "        async function convertToInteractive(key) {\n",
              "          const element = document.querySelector('#df-5d8b9c3f-00af-46f9-9780-5c54f0347ef9');\n",
              "          const dataTable =\n",
              "            await google.colab.kernel.invokeFunction('convertToInteractive',\n",
              "                                                     [key], {});\n",
              "          if (!dataTable) return;\n",
              "\n",
              "          const docLinkHtml = 'Like what you see? Visit the ' +\n",
              "            '<a target=\"_blank\" href=https://colab.research.google.com/notebooks/data_table.ipynb>data table notebook</a>'\n",
              "            + ' to learn more about interactive tables.';\n",
              "          element.innerHTML = '';\n",
              "          dataTable['output_type'] = 'display_data';\n",
              "          await google.colab.output.renderOutput(dataTable, element);\n",
              "          const docLink = document.createElement('div');\n",
              "          docLink.innerHTML = docLinkHtml;\n",
              "          element.appendChild(docLink);\n",
              "        }\n",
              "      </script>\n",
              "    </div>\n",
              "  </div>\n",
              "  "
            ]
          },
          "metadata": {},
          "execution_count": 718
        }
      ],
      "source": [
        "# drop the first column which is a redundant index\n",
        "Xy = df.iloc[:, 1:].copy()\n",
        "\n",
        "# drop flight as it is high cardinality and low information\n",
        "Xy.drop(['flight'], axis=1, inplace=True)\n",
        "\n",
        "Xy.head()"
      ]
    },
    {
      "cell_type": "markdown",
      "metadata": {
        "id": "hIzB2ItDc_Aw"
      },
      "source": [
        "## Encoding"
      ]
    },
    {
      "cell_type": "code",
      "execution_count": null,
      "metadata": {
        "id": "7TVTmn_boPUz"
      },
      "outputs": [],
      "source": [
        "def one_hot_encode(col, data):  \n",
        "  df = data.copy()\n",
        "  \n",
        "  ohe = pd.get_dummies(df[col], prefix=col, prefix_sep='_', drop_first=False)\n",
        "  \n",
        "  df = df.join(ohe)\n",
        "\n",
        "  return df"
      ]
    },
    {
      "cell_type": "code",
      "execution_count": null,
      "metadata": {
        "id": "AV2bMtiVoPXY"
      },
      "outputs": [],
      "source": [
        "# iterate over categorical data and one hot encode\n",
        "ohe_list = ['class', 'airline', 'source_city', 'destination_city', 'departure_time', 'arrival_time', 'stops']\n",
        "\n",
        "Xy_ohe = Xy.copy()\n",
        "\n",
        "for col in ohe_list:\n",
        "  Xy_ohe = one_hot_encode(col, Xy_ohe)"
      ]
    },
    {
      "cell_type": "code",
      "execution_count": null,
      "metadata": {
        "id": "ZxiTeGRbCHtu"
      },
      "outputs": [],
      "source": [
        "# iterate over categorical data and label encode\n",
        "def label_encode(col, data):\n",
        "  df = data.copy()\n",
        "\n",
        "  col_e = col + '_e'\n",
        "\n",
        "  labelencoder = preprocessing.LabelEncoder()\n",
        "  df[col_e] = labelencoder.fit_transform(df[col])\n",
        "  \n",
        "  return df"
      ]
    },
    {
      "cell_type": "code",
      "execution_count": null,
      "metadata": {
        "colab": {
          "base_uri": "https://localhost:8080/"
        },
        "id": "SLuYiaW4CHwQ",
        "outputId": "b4cfc1f3-bc10-4c49-fd50-a6dbe1150e7c"
      },
      "outputs": [
        {
          "output_type": "execute_result",
          "data": {
            "text/plain": [
              "Index(['airline', 'source_city', 'departure_time', 'stops', 'arrival_time',\n",
              "       'destination_city', 'class', 'duration', 'days_left', 'price',\n",
              "       'class_e', 'airline_e', 'source_city_e', 'destination_city_e',\n",
              "       'departure_time_e', 'arrival_time_e', 'stops_e'],\n",
              "      dtype='object')"
            ]
          },
          "metadata": {},
          "execution_count": 722
        }
      ],
      "source": [
        "for col in ohe_list:\n",
        "  Xy = label_encode(col, Xy)\n",
        "\n",
        "Xy.columns"
      ]
    },
    {
      "cell_type": "code",
      "execution_count": null,
      "metadata": {
        "id": "h8lftd2sLSSC"
      },
      "outputs": [],
      "source": [
        "# create X and y by class\n",
        "Xy_e = Xy.loc[Xy['class'] == 'Economy'].reset_index(drop=True).copy()\n",
        "Xy_b = Xy.loc[Xy['class'] != 'Economy'].reset_index(drop=True).copy()"
      ]
    },
    {
      "cell_type": "code",
      "execution_count": null,
      "metadata": {
        "id": "1cHI7C2w9cIt"
      },
      "outputs": [],
      "source": [
        "# create X and y ohe by class\n",
        "Xy_e_ohe = Xy_ohe.loc[Xy_ohe['class'] == 'Economy'].reset_index(drop=True).copy()\n",
        "Xy_b_ohe = Xy_ohe.loc[Xy_ohe['class'] != 'Economy'].reset_index(drop=True).copy()"
      ]
    },
    {
      "cell_type": "markdown",
      "metadata": {
        "id": "PbuQ7Wjx_NN6"
      },
      "source": [
        "## Train Test Split\n"
      ]
    },
    {
      "cell_type": "code",
      "execution_count": null,
      "metadata": {
        "id": "ni5yhPN89tJk"
      },
      "outputs": [],
      "source": [
        "# target\n",
        "target = 'price'\n",
        "\n",
        "# root mean squared error as our metric\n",
        "scoring = 'neg_root_mean_squared_error'\n",
        "\n",
        "# folds for nested cross-validation. Only 5 because so much data.\n",
        "inner_cv = model_selection.KFold(n_splits=5, shuffle=True, random_state=random_state)\n",
        "outer_cv = model_selection.KFold(n_splits=5, shuffle=True, random_state=random_state)"
      ]
    },
    {
      "cell_type": "code",
      "execution_count": null,
      "metadata": {
        "colab": {
          "base_uri": "https://localhost:8080/"
        },
        "id": "U2QUIXKW9uBK",
        "outputId": "c42913e2-1328-40d9-b12b-fa65c69c12f7"
      },
      "outputs": [
        {
          "output_type": "execute_result",
          "data": {
            "text/plain": [
              "Index(['duration', 'days_left', 'class_e', 'airline_e', 'source_city_e',\n",
              "       'destination_city_e', 'departure_time_e', 'arrival_time_e', 'stops_e'],\n",
              "      dtype='object')"
            ]
          },
          "metadata": {},
          "execution_count": 726
        }
      ],
      "source": [
        "# X and y\n",
        "le_drop_list = ohe_list + [target]\n",
        "\n",
        "X = Xy.drop(le_drop_list, axis=1).copy()\n",
        "y = Xy[[target]].copy()\n",
        "\n",
        "X_train, X_test, y_train, y_test = model_selection.train_test_split(X, \n",
        "                                                                    y, \n",
        "                                                                    test_size=0.20, \n",
        "                                                                    random_state=random_state) \n",
        "\n",
        "X.columns"
      ]
    },
    {
      "cell_type": "code",
      "execution_count": null,
      "metadata": {
        "colab": {
          "base_uri": "https://localhost:8080/"
        },
        "id": "1SY-5Gkc-Dg8",
        "outputId": "e09501f5-53ba-4988-f723-4b215bfbe23f"
      },
      "outputs": [
        {
          "output_type": "execute_result",
          "data": {
            "text/plain": [
              "Index(['duration', 'days_left', 'class_e', 'airline_e', 'source_city_e',\n",
              "       'destination_city_e', 'departure_time_e', 'arrival_time_e', 'stops_e'],\n",
              "      dtype='object')"
            ]
          },
          "metadata": {},
          "execution_count": 727
        }
      ],
      "source": [
        "# X_e and y_e\n",
        "X_e = Xy_e.drop(le_drop_list, axis=1).copy()\n",
        "y_e = Xy_e[[target]].copy()\n",
        "\n",
        "X_e_train, X_e_test, y_e_train, y_e_test = model_selection.train_test_split(X_e, \n",
        "                                                                    y_e, \n",
        "                                                                    test_size=0.20, \n",
        "                                                                    random_state=random_state) \n",
        "\n",
        "X_e.columns\n"
      ]
    },
    {
      "cell_type": "code",
      "execution_count": null,
      "metadata": {
        "colab": {
          "base_uri": "https://localhost:8080/"
        },
        "id": "y6-hs0AkFblZ",
        "outputId": "35852456-3638-4dea-bad5-6b3c8998c302"
      },
      "outputs": [
        {
          "output_type": "execute_result",
          "data": {
            "text/plain": [
              "Index(['duration', 'days_left', 'class_e', 'airline_e', 'source_city_e',\n",
              "       'destination_city_e', 'departure_time_e', 'arrival_time_e', 'stops_e'],\n",
              "      dtype='object')"
            ]
          },
          "metadata": {},
          "execution_count": 728
        }
      ],
      "source": [
        "# X_b and y_b\n",
        "X_b = Xy_b.drop(le_drop_list, axis=1).copy()\n",
        "y_b = Xy_b[[target]].copy()\n",
        "\n",
        "X_b_train, X_b_test, y_b_train, y_b_test = model_selection.train_test_split(X_b, \n",
        "                                                                    y_b, \n",
        "                                                                    test_size=0.20, \n",
        "                                                                    random_state=random_state)\n",
        "\n",
        "X_b.columns"
      ]
    },
    {
      "cell_type": "code",
      "execution_count": null,
      "metadata": {
        "colab": {
          "base_uri": "https://localhost:8080/"
        },
        "id": "TGzaCYDD93ag",
        "outputId": "0bcdcde3-702d-40d0-e0ef-546b74e6a36f"
      },
      "outputs": [
        {
          "output_type": "execute_result",
          "data": {
            "text/plain": [
              "Index(['duration', 'days_left', 'class_Economy', 'airline_AirAsia',\n",
              "       'airline_GO_FIRST', 'airline_Indigo', 'airline_SpiceJet',\n",
              "       'airline_Vistara', 'source_city_Bangalore', 'source_city_Delhi',\n",
              "       'source_city_Hyderabad', 'source_city_Kolkata', 'source_city_Mumbai',\n",
              "       'destination_city_Bangalore', 'destination_city_Delhi',\n",
              "       'destination_city_Hyderabad', 'destination_city_Kolkata',\n",
              "       'destination_city_Mumbai', 'departure_time_Afternoon',\n",
              "       'departure_time_Evening', 'departure_time_Late_Night',\n",
              "       'departure_time_Morning', 'departure_time_Night',\n",
              "       'arrival_time_Afternoon', 'arrival_time_Evening',\n",
              "       'arrival_time_Late_Night', 'arrival_time_Morning', 'arrival_time_Night',\n",
              "       'stops_one', 'stops_two_or_more'],\n",
              "      dtype='object')"
            ]
          },
          "metadata": {},
          "execution_count": 729
        }
      ],
      "source": [
        "# X_ohe and y_ohe\n",
        "ohe_drop_list = ohe_list + ['class_Business',\n",
        "                 'airline_Air_India',\n",
        "                 'source_city_Chennai',\n",
        "                 'destination_city_Chennai',\n",
        "                 'departure_time_Early_Morning',\n",
        "                 'arrival_time_Early_Morning',\n",
        "                 'stops_zero'\n",
        "                 ] + [target]\n",
        "\n",
        "\n",
        "X_ohe = Xy_ohe.drop(ohe_drop_list, axis=1).copy()\n",
        "y_ohe = Xy_ohe[[target]].copy()\n",
        "\n",
        "X_ohe_train, X_ohe_test, y_ohe_train, y_ohe_test = model_selection.train_test_split(X_ohe, \n",
        "                                                                    y_ohe, \n",
        "                                                                    test_size=0.20, \n",
        "                                                                    random_state=random_state) \n",
        "\n",
        "X_ohe.columns"
      ]
    },
    {
      "cell_type": "code",
      "execution_count": null,
      "metadata": {
        "colab": {
          "base_uri": "https://localhost:8080/"
        },
        "id": "JDPoVb-z1ddr",
        "outputId": "496ff775-beb7-4806-c68d-648d45f5f014"
      },
      "outputs": [
        {
          "output_type": "execute_result",
          "data": {
            "text/plain": [
              "Index(['duration', 'days_left', 'airline_AirAsia', 'airline_GO_FIRST',\n",
              "       'airline_Indigo', 'airline_SpiceJet', 'airline_Vistara',\n",
              "       'source_city_Bangalore', 'source_city_Delhi', 'source_city_Hyderabad',\n",
              "       'source_city_Kolkata', 'source_city_Mumbai',\n",
              "       'destination_city_Bangalore', 'destination_city_Delhi',\n",
              "       'destination_city_Hyderabad', 'destination_city_Kolkata',\n",
              "       'destination_city_Mumbai', 'departure_time_Afternoon',\n",
              "       'departure_time_Evening', 'departure_time_Late_Night',\n",
              "       'departure_time_Morning', 'departure_time_Night',\n",
              "       'arrival_time_Afternoon', 'arrival_time_Evening',\n",
              "       'arrival_time_Late_Night', 'arrival_time_Morning', 'arrival_time_Night',\n",
              "       'stops_one', 'stops_two_or_more'],\n",
              "      dtype='object')"
            ]
          },
          "metadata": {},
          "execution_count": 730
        }
      ],
      "source": [
        "# X_e_ohe and y_b_ohe\n",
        "ohe_drop_list = ohe_list + ['class_Business',\n",
        "                 'airline_Air_India',\n",
        "                 'source_city_Chennai',\n",
        "                 'destination_city_Chennai',\n",
        "                 'departure_time_Early_Morning',\n",
        "                 'arrival_time_Early_Morning',\n",
        "                 'stops_zero'\n",
        "                 ] + [target, 'class_Economy']\n",
        "\n",
        "X_e_ohe = Xy_e_ohe.drop(ohe_drop_list, axis=1).copy()\n",
        "y_e_ohe = Xy_e_ohe[[target]].copy()\n",
        "\n",
        "X_e_ohe_train, X_e_ohe_test, y_e_ohe_train, y_e_ohe_test = model_selection.train_test_split(X_e_ohe, \n",
        "                                                                    y_e_ohe, \n",
        "                                                                    test_size=0.20, \n",
        "                                                                    random_state=random_state) \n",
        "\n",
        "X_e_ohe.columns"
      ]
    },
    {
      "cell_type": "code",
      "execution_count": null,
      "metadata": {
        "colab": {
          "base_uri": "https://localhost:8080/"
        },
        "id": "sIbobVwEFgTh",
        "outputId": "ceaae6f4-4f0e-4615-b9f3-b0163a32c63b"
      },
      "outputs": [
        {
          "output_type": "execute_result",
          "data": {
            "text/plain": [
              "Index(['duration', 'days_left', 'airline_AirAsia', 'airline_GO_FIRST',\n",
              "       'airline_Indigo', 'airline_SpiceJet', 'airline_Vistara',\n",
              "       'source_city_Bangalore', 'source_city_Delhi', 'source_city_Hyderabad',\n",
              "       'source_city_Kolkata', 'source_city_Mumbai',\n",
              "       'destination_city_Bangalore', 'destination_city_Delhi',\n",
              "       'destination_city_Hyderabad', 'destination_city_Kolkata',\n",
              "       'destination_city_Mumbai', 'departure_time_Afternoon',\n",
              "       'departure_time_Evening', 'departure_time_Late_Night',\n",
              "       'departure_time_Morning', 'departure_time_Night',\n",
              "       'arrival_time_Afternoon', 'arrival_time_Evening',\n",
              "       'arrival_time_Late_Night', 'arrival_time_Morning', 'arrival_time_Night',\n",
              "       'stops_one', 'stops_two_or_more'],\n",
              "      dtype='object')"
            ]
          },
          "metadata": {},
          "execution_count": 731
        }
      ],
      "source": [
        "# X_b_ohe and y_b_ohe\n",
        "X_b_ohe = Xy_b_ohe.drop(ohe_drop_list, axis=1).copy()\n",
        "y_b_ohe = Xy_b_ohe[[target]].copy()\n",
        "\n",
        "X_b_ohe_train, X_b_ohe_test, y_b_ohe_train, y_b_ohe_test = model_selection.train_test_split(X_b_ohe, \n",
        "                                                                    y_b_ohe, \n",
        "                                                                    test_size=0.20, \n",
        "                                                                    random_state=random_state) \n",
        "\n",
        "X_b_ohe.columns"
      ]
    },
    {
      "cell_type": "markdown",
      "metadata": {
        "id": "aDJ8UOfFIRYP"
      },
      "source": [
        "# Modeling"
      ]
    },
    {
      "cell_type": "code",
      "execution_count": null,
      "metadata": {
        "id": "-87ynjSHFsql"
      },
      "outputs": [],
      "source": [
        "# function for weighting RMSE results by proportion of data\n",
        "e_weight = len(y_e.index) / len(y.index)\n",
        "b_weight = len(y_b.index) / len(y.index)\n",
        "\n",
        "def calculate_avg_score(e_rmse, b_rmse, e_weight=e_weight, b_weight=b_weight):\n",
        "  avg_rmse = e_rmse * e_weight + b_rmse * b_weight\n",
        "\n",
        "  return avg_rmse"
      ]
    },
    {
      "cell_type": "markdown",
      "metadata": {
        "id": "GY-CCbjVQu4h"
      },
      "source": [
        "## Phase 1"
      ]
    },
    {
      "cell_type": "markdown",
      "metadata": {
        "id": "FAOuqbO5JBHq"
      },
      "source": [
        "### Linear Regression"
      ]
    },
    {
      "cell_type": "code",
      "execution_count": null,
      "metadata": {
        "colab": {
          "base_uri": "https://localhost:8080/"
        },
        "id": "5gH3jaLy2fhy",
        "outputId": "c2a10333-1b33-4aa7-f2b3-a2c1f508c61a"
      },
      "outputs": [
        {
          "output_type": "stream",
          "name": "stdout",
          "text": [
            "General neg_root_mean_squared_error mean:  6753.15  with st.dev (+/-):  27.65\n"
          ]
        }
      ],
      "source": [
        "# fit a basic regression\n",
        "clf_lr = linear_model.LinearRegression(n_jobs=-1,\n",
        "                                       fit_intercept=True,\n",
        "                                       positive=False)\n",
        "\n",
        "clf_lr_fit = clf_lr.fit(X_ohe_train, y_ohe_train)\n",
        "\n",
        "# generalization performance\n",
        "nested_lr_fit = model_selection.cross_val_score(\n",
        "    clf_lr_fit, \n",
        "    X=X_ohe_train, \n",
        "    y=y_ohe_train, \n",
        "    scoring=scoring,\n",
        "    cv=outer_cv)\n",
        "\n",
        "print(\"General {} mean: \".format(scoring), round(-1 * nested_lr_fit.mean(), 2), \" with st.dev (+/-): \", round(nested_lr_fit.std(),2))"
      ]
    },
    {
      "cell_type": "code",
      "execution_count": null,
      "metadata": {
        "colab": {
          "base_uri": "https://localhost:8080/"
        },
        "id": "2zPne_SrHn51",
        "outputId": "1bf17e6f-72c4-4cb3-cb1b-29fd88aab0aa"
      },
      "outputs": [
        {
          "output_type": "stream",
          "name": "stdout",
          "text": [
            "Economy neg_root_mean_squared_error mean:  2855.13  with st.dev (+/-):  10.14\n"
          ]
        }
      ],
      "source": [
        "# fit a basic regression\n",
        "clf_lr = linear_model.LinearRegression(n_jobs=-1,\n",
        "                                       fit_intercept=True,\n",
        "                                       positive=False)\n",
        "\n",
        "clf_lr_fit = clf_lr.fit(X_e_ohe_train, y_e_ohe_train)\n",
        "\n",
        "\n",
        "# generalization performance\n",
        "nested_lr_fit= model_selection.cross_val_score(\n",
        "    clf_lr_fit, \n",
        "    X=X_e_ohe_train, \n",
        "    y=y_e_ohe_train, \n",
        "    scoring=scoring,\n",
        "    cv=outer_cv)\n",
        "\n",
        "print(\"Economy {} mean: \".format(scoring), round(-1 * nested_lr_fit.mean(), 2), \" with st.dev (+/-): \", round(nested_lr_fit.std(),2))\n",
        "\n",
        "e_rmse = -1 * nested_lr_fit.mean()"
      ]
    },
    {
      "cell_type": "code",
      "execution_count": null,
      "metadata": {
        "colab": {
          "base_uri": "https://localhost:8080/"
        },
        "id": "JokC3NHUzzvb",
        "outputId": "64aa31e7-a2d5-4355-bf86-8b8b655e1fc8"
      },
      "outputs": [
        {
          "output_type": "stream",
          "name": "stdout",
          "text": [
            "Business neg_root_mean_squared_error mean:  9380.35  with st.dev (+/-):  36.85\n"
          ]
        }
      ],
      "source": [
        "# fit a basic regression\n",
        "clf_lr = linear_model.LinearRegression(n_jobs=-1,\n",
        "                                       fit_intercept=True,\n",
        "                                       positive=False)\n",
        "\n",
        "clr_lr_fit = clf_lr.fit(X_b_ohe_train, y_b_ohe_train)\n",
        "\n",
        "# generalization performance\n",
        "nested_lr_fit= model_selection.cross_val_score(\n",
        "    clf_lr_fit, \n",
        "    X=X_b_ohe_train, \n",
        "    y=y_b_ohe_train, \n",
        "    scoring=scoring,\n",
        "    cv=outer_cv)\n",
        "\n",
        "print(\"Business {} mean: \".format(scoring), round(-1 * nested_lr_fit.mean(), 2), \" with st.dev (+/-): \", round(nested_lr_fit.std(),2))\n",
        "\n",
        "b_rmse = -1 * nested_lr_fit.mean()"
      ]
    },
    {
      "cell_type": "code",
      "execution_count": null,
      "metadata": {
        "colab": {
          "base_uri": "https://localhost:8080/"
        },
        "id": "J0rSuFAyGgTK",
        "outputId": "a9150100-a23e-4584-99d6-736a04d3c32f"
      },
      "outputs": [
        {
          "output_type": "stream",
          "name": "stdout",
          "text": [
            "4603.54\n"
          ]
        }
      ],
      "source": [
        "avg_rmse = calculate_avg_score(e_rmse, b_rmse)\n",
        "print(round(avg_rmse, 2))"
      ]
    },
    {
      "cell_type": "markdown",
      "metadata": {
        "id": "7Gq6oKE1JD3r"
      },
      "source": [
        "### Decision Tree"
      ]
    },
    {
      "cell_type": "code",
      "execution_count": null,
      "metadata": {
        "colab": {
          "base_uri": "https://localhost:8080/"
        },
        "id": "_N481LiP2nTB",
        "outputId": "4feb9ee6-bfa2-4bcf-8521-da637dca79e5"
      },
      "outputs": [
        {
          "output_type": "stream",
          "name": "stdout",
          "text": [
            "General neg_root_mean_squared_error mean:  3061.45  with st.dev (+/-):  9.29\n"
          ]
        }
      ],
      "source": [
        "clf_tree = tree.DecisionTreeRegressor(criterion='squared_error',\n",
        "                                      min_samples_split=20,\n",
        "                                      max_depth=20,\n",
        "                                      random_state=random_state)\n",
        "\n",
        "clf_tree_fit = clf_tree.fit(X_train, y_train)\n",
        "\n",
        "# generalization performance\n",
        "nested_tree_fit = model_selection.cross_val_score(\n",
        "    clf_tree_fit, \n",
        "    X=X_train, \n",
        "    y=y_train, \n",
        "    scoring=scoring,\n",
        "    cv=outer_cv)\n",
        "\n",
        "print(\"General {} mean: \".format(scoring), round(-1 * nested_tree_fit.mean(), 2), \" with st.dev (+/-): \", round(nested_tree_fit.std(),2))"
      ]
    },
    {
      "cell_type": "code",
      "execution_count": null,
      "metadata": {
        "colab": {
          "base_uri": "https://localhost:8080/"
        },
        "id": "LtoURau1Hn8o",
        "outputId": "96008795-a242-478d-e49b-5789296b17b9"
      },
      "outputs": [
        {
          "output_type": "stream",
          "name": "stdout",
          "text": [
            "General neg_root_mean_squared_error mean:  1712.58  with st.dev (+/-):  12.46\n"
          ]
        }
      ],
      "source": [
        "clf_tree = tree.DecisionTreeRegressor(criterion='squared_error',\n",
        "                                      min_samples_split=20,\n",
        "                                      max_depth=20,\n",
        "                                      random_state=random_state)\n",
        "\n",
        "clf_tree_fit = clf_tree.fit(X_e_train, y_e_train)\n",
        "\n",
        "# generalization performance\n",
        "nested_tree_fit = model_selection.cross_val_score(\n",
        "    clf_tree_fit, \n",
        "    X=X_e_train, \n",
        "    y=y_e_train, \n",
        "    scoring=scoring,\n",
        "    cv=outer_cv)\n",
        "\n",
        "print(\"General {} mean: \".format(scoring), round(-1 * nested_tree_fit.mean(), 2), \" with st.dev (+/-): \", round(nested_tree_fit.std(),2))\n",
        "\n",
        "e_rmse = -1 * nested_tree_fit.mean()"
      ]
    },
    {
      "cell_type": "code",
      "execution_count": null,
      "metadata": {
        "colab": {
          "base_uri": "https://localhost:8080/"
        },
        "id": "SmgrLoGTz0KI",
        "outputId": "492e063e-315b-465a-9898-9e2a24745c2d"
      },
      "outputs": [
        {
          "output_type": "stream",
          "name": "stdout",
          "text": [
            "General neg_root_mean_squared_error mean:  5572.32  with st.dev (+/-):  78.25\n"
          ]
        }
      ],
      "source": [
        "clf_tree = tree.DecisionTreeRegressor(criterion='squared_error',\n",
        "                                      min_samples_split=10,\n",
        "                                      max_depth=15,\n",
        "                                      random_state=random_state)\n",
        "\n",
        "clf_tree_fit = clf_tree.fit(X_b_train, y_b_train)\n",
        "\n",
        "# generalization performance\n",
        "nested_tree_fit = model_selection.cross_val_score(\n",
        "    clf_tree_fit, \n",
        "    X=X_b_train, \n",
        "    y=y_b_train, \n",
        "    scoring=scoring,\n",
        "    cv=outer_cv)\n",
        "\n",
        "print(\"General {} mean: \".format(scoring), round(-1 * nested_tree_fit.mean(), 2), \" with st.dev (+/-): \", round(nested_tree_fit.std(),2))\n",
        "\n",
        "b_rmse = -1 * nested_tree_fit.mean()"
      ]
    },
    {
      "cell_type": "code",
      "execution_count": null,
      "metadata": {
        "colab": {
          "base_uri": "https://localhost:8080/"
        },
        "id": "CDXjjUKGGqul",
        "outputId": "d5a37bc5-b3b0-449f-ffd1-1e29f585ec55"
      },
      "outputs": [
        {
          "output_type": "stream",
          "name": "stdout",
          "text": [
            "2914.75\n"
          ]
        }
      ],
      "source": [
        "avg_rmse = calculate_avg_score(e_rmse, b_rmse)\n",
        "print(round(avg_rmse, 2))"
      ]
    },
    {
      "cell_type": "markdown",
      "metadata": {
        "id": "GiCbI6EDI20Y"
      },
      "source": [
        "## Phase 2"
      ]
    },
    {
      "cell_type": "markdown",
      "metadata": {
        "id": "qR4jtyn9QZbo"
      },
      "source": [
        "### Linear Regression"
      ]
    },
    {
      "cell_type": "code",
      "execution_count": null,
      "metadata": {
        "colab": {
          "base_uri": "https://localhost:8080/"
        },
        "id": "pcJjc072Rsn0",
        "outputId": "8f6351c6-6284-4f2a-c7c4-c55f5500a21a"
      },
      "outputs": [
        {
          "name": "stdout",
          "output_type": "stream",
          "text": [
            "General\n",
            "Non-nested Tuning:\n",
            "  Model:  LinearRegression(n_jobs=-1)\n",
            "  Parameterization:  {'fit_intercept': True, 'positive': False}\n",
            "  Non-nested CV neg_root_mean_squared_error score:  6753.15\n",
            "\n",
            "Nested Tuning:\n",
            "  Nested CV neg_root_mean_squared_error mean:  6753.15  with st.dev (+/-):  27.65\n"
          ]
        }
      ],
      "source": [
        "clf_lr = linear_model.LinearRegression(n_jobs=-1)\n",
        "\n",
        "# two parameters to optimize\n",
        "fit_intercept_list = [True, False]\n",
        "positive_list = [True, False]\n",
        "\n",
        "# select the optimal parameters\n",
        "gs_lr = model_selection.GridSearchCV(\n",
        "    estimator=clf_lr,\n",
        "    param_grid=[{\n",
        "        'fit_intercept': fit_intercept_list,\n",
        "        'positive': positive_list}],\n",
        "    scoring=scoring,                                      \n",
        "    cv=inner_cv) \n",
        "\n",
        "gs_lr_fit = gs_lr.fit(X_ohe_train,y_ohe_train)\n",
        "\n",
        "print('General')\n",
        "print(\"Non-nested Tuning:\")\n",
        "print(\"  Model: \", gs_lr_fit.best_estimator_)\n",
        "print(\"  Parameterization: \", gs_lr_fit.best_params_)\n",
        "print(\"  Non-nested CV {} score: \".format(scoring), round(-1 * gs_lr_fit.best_score_, 2))\n",
        "\n",
        "\n",
        "# generalization performance\n",
        "nested_gs_lr_fit= model_selection.cross_val_score(\n",
        "    gs_lr_fit, \n",
        "    X=X_ohe_train, \n",
        "    y=y_ohe_train, \n",
        "    scoring=scoring,\n",
        "    cv=outer_cv)\n",
        "\n",
        "print(\"\\nNested Tuning:\")\n",
        "print(\"  Nested CV {} mean: \".format(scoring), round(-1 * nested_gs_lr_fit.mean(), 2), \" with st.dev (+/-): \", round(nested_gs_lr_fit.std(),2))"
      ]
    },
    {
      "cell_type": "code",
      "execution_count": null,
      "metadata": {
        "colab": {
          "base_uri": "https://localhost:8080/"
        },
        "id": "H9GWS0l-2wwT",
        "outputId": "f61c4365-402c-4e62-c5d8-e0d5972e989f"
      },
      "outputs": [
        {
          "name": "stdout",
          "output_type": "stream",
          "text": [
            "Economy\n",
            "Non-nested Tuning:\n",
            "  Model:  LinearRegression(n_jobs=-1)\n",
            "  Parameterization:  {'fit_intercept': True, 'positive': False}\n",
            "  Non-nested CV neg_root_mean_squared_error score:  2648.86\n",
            "\n",
            "Nested Tuning:\n",
            "  Nested CV neg_root_mean_squared_error mean:  2648.86  with st.dev (+/-):  9.76\n"
          ]
        }
      ],
      "source": [
        "clf_lr = linear_model.LinearRegression(n_jobs=-1)\n",
        "\n",
        "# two parameters to optimize\n",
        "fit_intercept_list = [True, False]\n",
        "positive_list = [True, False]\n",
        "\n",
        "# select the optimal parameters\n",
        "gs_lr = model_selection.GridSearchCV(\n",
        "    estimator=clf_lr,\n",
        "    param_grid=[{\n",
        "        'fit_intercept': fit_intercept_list,\n",
        "        'positive': positive_list}],\n",
        "    scoring=scoring,                                      \n",
        "    cv=inner_cv) \n",
        "\n",
        "gs_lr_fit = gs_lr.fit(X_e_ohe_train,y_e_ohe_train)\n",
        "\n",
        "print('Economy')\n",
        "print(\"Non-nested Tuning:\")\n",
        "print(\"  Model: \", gs_lr_fit.best_estimator_)\n",
        "print(\"  Parameterization: \", gs_lr_fit.best_params_)\n",
        "print(\"  Non-nested CV {} score: \".format(scoring), round(-1 * gs_lr_fit.best_score_, 2))\n",
        "\n",
        "\n",
        "# generalization performance\n",
        "nested_gs_lr_fit= model_selection.cross_val_score(\n",
        "    gs_lr_fit, \n",
        "    X=X_e_ohe_train, \n",
        "    y=y_e_ohe_train, \n",
        "    scoring=scoring,\n",
        "    cv=outer_cv)\n",
        "\n",
        "print(\"\\nNested Tuning:\")\n",
        "print(\"  Nested CV {} mean: \".format(scoring), round(-1 * nested_gs_lr_fit.mean(), 2), \" with st.dev (+/-): \", round(nested_gs_lr_fit.std(),2))\n",
        "\n",
        "e_rmse = -1 * nested_gs_lr_fit.mean()"
      ]
    },
    {
      "cell_type": "code",
      "execution_count": null,
      "metadata": {
        "colab": {
          "base_uri": "https://localhost:8080/"
        },
        "id": "GXubkmb22w5q",
        "outputId": "2d8d54b8-f470-48a6-e75e-9c450b0ef40c"
      },
      "outputs": [
        {
          "name": "stdout",
          "output_type": "stream",
          "text": [
            "Business\n",
            "Non-nested Tuning:\n",
            "  Model:  LinearRegression(n_jobs=-1)\n",
            "  Parameterization:  {'fit_intercept': True, 'positive': False}\n",
            "  Non-nested CV neg_root_mean_squared_error score:  8924.62\n",
            "\n",
            "Nested Tuning:\n",
            "  Nested CV neg_root_mean_squared_error mean:  8924.62  with st.dev (+/-):  45.18\n"
          ]
        }
      ],
      "source": [
        "clf_lr = linear_model.LinearRegression(n_jobs=-1)\n",
        "\n",
        "# two parameters to optimize\n",
        "fit_intercept_list = [True, False]\n",
        "positive_list = [True, False]\n",
        "\n",
        "# select the optimal parameters\n",
        "gs_lr = model_selection.GridSearchCV(\n",
        "    estimator=clf_lr,\n",
        "    param_grid=[{\n",
        "        'fit_intercept': fit_intercept_list,\n",
        "        'positive': positive_list}],\n",
        "    scoring=scoring,                                      \n",
        "    cv=inner_cv) \n",
        "\n",
        "gs_lr_fit = gs_lr.fit(X_b_ohe_train,y_b_ohe_train)\n",
        "\n",
        "print('Business')\n",
        "print(\"Non-nested Tuning:\")\n",
        "print(\"  Model: \", gs_lr_fit.best_estimator_)\n",
        "print(\"  Parameterization: \", gs_lr_fit.best_params_)\n",
        "print(\"  Non-nested CV {} score: \".format(scoring), round(-1 * gs_lr_fit.best_score_, 2))\n",
        "\n",
        "\n",
        "# generalization performance\n",
        "nested_gs_lr_fit= model_selection.cross_val_score(\n",
        "    gs_lr_fit, \n",
        "    X=X_b_ohe_train, \n",
        "    y=y_b_ohe_train, \n",
        "    scoring=scoring,\n",
        "    cv=outer_cv)\n",
        "\n",
        "print(\"\\nNested Tuning:\")\n",
        "print(\"  Nested CV {} mean: \".format(scoring), round(-1 * nested_gs_lr_fit.mean(), 2), \" with st.dev (+/-): \", round(nested_gs_lr_fit.std(),2))\n",
        "\n",
        "b_rmse = -1 * nested_gs_lr_fit.mean()"
      ]
    },
    {
      "cell_type": "code",
      "execution_count": null,
      "metadata": {
        "colab": {
          "base_uri": "https://localhost:8080/"
        },
        "id": "mPkVyaBRHLxZ",
        "outputId": "e4fffffd-2ce6-4ee3-ab46-453bca6c7041"
      },
      "outputs": [
        {
          "name": "stdout",
          "output_type": "stream",
          "text": [
            "4603.54\n"
          ]
        }
      ],
      "source": [
        "avg_rmse = calculate_avg_score(e_rmse, b_rmse)\n",
        "print(round(avg_rmse, 2))"
      ]
    },
    {
      "cell_type": "markdown",
      "metadata": {
        "id": "rmb0yc6QAi6Q"
      },
      "source": [
        "### Decision Tree"
      ]
    },
    {
      "cell_type": "code",
      "execution_count": null,
      "metadata": {
        "colab": {
          "base_uri": "https://localhost:8080/"
        },
        "id": "04_L3xpeAjEc",
        "outputId": "5bbd6261-3c62-4726-a443-74e95418b7bd"
      },
      "outputs": [
        {
          "name": "stdout",
          "output_type": "stream",
          "text": [
            "General\n",
            "Non-nested Tuning:\n",
            "  Model:  DecisionTreeRegressor(max_depth=40, min_samples_split=30, random_state=42)\n",
            "  Parameterization:  {'max_depth': 40, 'min_samples_split': 30}\n",
            "  Non-nested CV neg_root_mean_squared_error score:  2971.93\n",
            "nested Tuning:\n",
            "  Nested CV neg_root_mean_squared_error mean:  2984.3  with st.dev (+/-):  14.75\n"
          ]
        }
      ],
      "source": [
        "# create a model\n",
        "clf_tree = tree.DecisionTreeRegressor(criterion='squared_error',\n",
        "                                      random_state=random_state)\n",
        "\n",
        "# two parameters to optimize\n",
        "min_samples_split_list = [10, 20, 30, 40, 50]\n",
        "max_depth_list = [10, 20, 30, 40, 50]\n",
        "\n",
        "# select the optimal parameters \n",
        "gs_tree = model_selection.GridSearchCV(estimator=clf_tree,\n",
        "                                       param_grid=[{\n",
        "                                           'min_samples_split': min_samples_split_list,\n",
        "                                           'max_depth': max_depth_list}],\n",
        "                                       scoring=scoring,                                      \n",
        "                                       cv=inner_cv) \n",
        "\n",
        "gs_tree_fit = gs_tree.fit(X_train,y_train)\n",
        "\n",
        "print('General')\n",
        "print(\"Non-nested Tuning:\")\n",
        "print(\"  Model: \", gs_tree_fit.best_estimator_)\n",
        "print(\"  Parameterization: \", gs_tree_fit.best_params_)\n",
        "print(\"  Non-nested CV {} score: \".format(scoring), round(-1 * gs_tree_fit.best_score_, 2))\n",
        "\n",
        "# generalization performance\n",
        "nested_gs_tree_fit = model_selection.cross_val_score(gs_tree_fit, \n",
        "                                                     X=X_train, \n",
        "                                                     y=y_train, \n",
        "                                                     scoring=scoring,\n",
        "                                                     cv=outer_cv)\n",
        "\n",
        "print(\"nested Tuning:\")\n",
        "print(\"  Nested CV {} mean: \".format(scoring), round(-1 * nested_gs_tree_fit.mean(),2), \" with st.dev (+/-): \", round(nested_gs_tree_fit.std(),2))"
      ]
    },
    {
      "cell_type": "code",
      "execution_count": null,
      "metadata": {
        "colab": {
          "base_uri": "https://localhost:8080/"
        },
        "id": "YF-53PSi3f1L",
        "outputId": "7cf2b95a-62da-48e7-9320-6e54e807630d"
      },
      "outputs": [
        {
          "name": "stdout",
          "output_type": "stream",
          "text": [
            "Economy\n",
            "Non-nested Tuning:\n",
            "  Model:  DecisionTreeRegressor(max_depth=30, min_samples_split=20, random_state=42)\n",
            "  Parameterization:  {'max_depth': 30, 'min_samples_split': 20}\n",
            "  Non-nested CV neg_root_mean_squared_error score:  1689.6\n",
            "nested Tuning:\n",
            "  Nested CV neg_root_mean_squared_error mean:  1691.32  with st.dev (+/-):  9.3\n"
          ]
        }
      ],
      "source": [
        "# create a model\n",
        "clf_tree = tree.DecisionTreeRegressor(criterion='squared_error',\n",
        "                                      random_state=random_state)\n",
        "\n",
        "# two parameters to optimize\n",
        "min_samples_split_list = [10, 20, 30, 40, 50]\n",
        "max_depth_list = [10, 20, 30, 40, 50]\n",
        "\n",
        "# select the optimal parameters \n",
        "gs_tree = model_selection.GridSearchCV(estimator=clf_tree,\n",
        "                                       param_grid=[{\n",
        "                                           'min_samples_split': min_samples_split_list,\n",
        "                                           'max_depth': max_depth_list}],\n",
        "                                       scoring=scoring,                                      \n",
        "                                       cv=inner_cv) \n",
        "\n",
        "gs_tree_fit = gs_tree.fit(X_e_train,y_e_train)\n",
        "\n",
        "print('Economy')\n",
        "print(\"Non-nested Tuning:\")\n",
        "print(\"  Model: \", gs_tree_fit.best_estimator_)\n",
        "print(\"  Parameterization: \", gs_tree_fit.best_params_)\n",
        "print(\"  Non-nested CV {} score: \".format(scoring), round(-1 * gs_tree_fit.best_score_, 2))\n",
        "\n",
        "# generalization performance\n",
        "nested_gs_tree_fit = model_selection.cross_val_score(gs_tree_fit, \n",
        "                                                     X=X_e_train, \n",
        "                                                     y=y_e_train, \n",
        "                                                     scoring=scoring,\n",
        "                                                     cv=outer_cv)\n",
        "\n",
        "print(\"nested Tuning:\")\n",
        "print(\"  Nested CV {} mean: \".format(scoring), round(-1 * nested_gs_tree_fit.mean(),2), \" with st.dev (+/-): \", round(nested_gs_tree_fit.std(),2))\n",
        "\n",
        "e_rmse = -1 * nested_gs_tree_fit.mean()"
      ]
    },
    {
      "cell_type": "code",
      "execution_count": null,
      "metadata": {
        "colab": {
          "base_uri": "https://localhost:8080/"
        },
        "id": "QFZoAbSb3f3f",
        "outputId": "b30a4003-076c-41fa-e3a7-873f41f2fbdf"
      },
      "outputs": [
        {
          "name": "stdout",
          "output_type": "stream",
          "text": [
            "Business\n",
            "Non-nested Tuning:\n",
            "  Model:  DecisionTreeRegressor(max_depth=30, min_samples_split=30, random_state=42)\n",
            "  Parameterization:  {'max_depth': 30, 'min_samples_split': 30}\n",
            "  Non-nested CV neg_root_mean_squared_error score:  4730.67\n",
            "nested Tuning:\n",
            "  Nested CV neg_root_mean_squared_error mean:  4742.49  with st.dev (+/-):  82.82\n"
          ]
        }
      ],
      "source": [
        "# create a model\n",
        "clf_tree = tree.DecisionTreeRegressor(criterion='squared_error',\n",
        "                                      random_state=random_state)\n",
        "\n",
        "# two parameters to optimize\n",
        "min_samples_split_list = [10, 20, 30, 40, 50]\n",
        "max_depth_list = [10, 20, 30, 40, 50]\n",
        "\n",
        "# select the optimal parameters \n",
        "gs_tree = model_selection.GridSearchCV(estimator=clf_tree,\n",
        "                                       param_grid=[{\n",
        "                                           'min_samples_split': min_samples_split_list,\n",
        "                                           'max_depth': max_depth_list}],\n",
        "                                       scoring=scoring,                                      \n",
        "                                       cv=inner_cv) \n",
        "\n",
        "gs_tree_fit = gs_tree.fit(X_b_train,y_b_train)\n",
        "\n",
        "print('Business')\n",
        "print(\"Non-nested Tuning:\")\n",
        "print(\"  Model: \", gs_tree_fit.best_estimator_)\n",
        "print(\"  Parameterization: \", gs_tree_fit.best_params_)\n",
        "print(\"  Non-nested CV {} score: \".format(scoring), round(-1 * gs_tree_fit.best_score_, 2))\n",
        "\n",
        "# generalization performance\n",
        "nested_gs_tree_fit = model_selection.cross_val_score(gs_tree_fit, \n",
        "                                                     X=X_b_train, \n",
        "                                                     y=y_b_train, \n",
        "                                                     scoring=scoring,\n",
        "                                                     cv=outer_cv)\n",
        "\n",
        "print(\"nested Tuning:\")\n",
        "print(\"  Nested CV {} mean: \".format(scoring), round(-1 * nested_gs_tree_fit.mean(),2), \" with st.dev (+/-): \", round(nested_gs_tree_fit.std(),2))\n",
        "\n",
        "b_rmse = -1 * nested_gs_tree_fit.mean()"
      ]
    },
    {
      "cell_type": "code",
      "execution_count": null,
      "metadata": {
        "colab": {
          "base_uri": "https://localhost:8080/"
        },
        "id": "wEwPeJAYHvWn",
        "outputId": "196d82a5-54ce-4ede-88d1-ce0980fa4cbc"
      },
      "outputs": [
        {
          "name": "stdout",
          "output_type": "stream",
          "text": [
            "2641.65\n"
          ]
        }
      ],
      "source": [
        "avg_rmse = calculate_avg_score(e_rmse, b_rmse)\n",
        "print(round(avg_rmse, 2))"
      ]
    },
    {
      "cell_type": "markdown",
      "metadata": {
        "id": "poO7596fI2DM"
      },
      "source": [
        "## Phase 3"
      ]
    },
    {
      "cell_type": "markdown",
      "metadata": {
        "id": "AQuliKMEjpkY"
      },
      "source": [
        "### Feature Engineering\n"
      ]
    },
    {
      "cell_type": "code",
      "execution_count": null,
      "metadata": {
        "colab": {
          "base_uri": "https://localhost:8080/",
          "height": 241
        },
        "id": "loCzDxKYI87v",
        "outputId": "fe32b4f1-017a-4af2-fe99-3fbdf2f16aef"
      },
      "outputs": [
        {
          "data": {
            "image/png": "[encoded data removed]",
            "text/plain": [
              "<Figure size 1440x216 with 1 Axes>"
            ]
          },
          "metadata": {},
          "output_type": "display_data"
        }
      ],
      "source": [
        "# duration is skewed to the right\n",
        "plt.hist(Xy['duration'], edgecolor=\"red\", bins=30)\n",
        "plt.title('Freq Distribution')\n",
        "plt.xlabel('frequency')\n",
        "plt.ylabel('cnt')\n",
        "plt.show()"
      ]
    },
    {
      "cell_type": "code",
      "execution_count": null,
      "metadata": {
        "colab": {
          "background_save": true
        },
        "id": "DbeUGeztI8-D",
        "outputId": "de130d2e-0d07-4c15-d861-db48d268cff8"
      },
      "outputs": [
        {
          "data": {
            "image/png": "[encoded data removed]",
            "text/plain": [
              "<Figure size 1440x216 with 1 Axes>"
            ]
          },
          "metadata": {},
          "output_type": "display_data"
        }
      ],
      "source": [
        "# duration is skewed to the right for Economy\n",
        "plt.hist(Xy_e['duration'], edgecolor=\"red\", bins=30)\n",
        "plt.title('Freq Distribution')\n",
        "plt.xlabel('frequency')\n",
        "plt.ylabel('cnt')\n",
        "plt.show()"
      ]
    },
    {
      "cell_type": "code",
      "execution_count": null,
      "metadata": {
        "colab": {
          "background_save": true
        },
        "id": "gxsF0G0CNTr7",
        "outputId": "b0517edc-b1b3-475b-dece-2b449efed744"
      },
      "outputs": [
        {
          "data": {
            "image/png": "[encoded data removed]",
            "text/plain": [
              "<Figure size 1440x216 with 1 Axes>"
            ]
          },
          "metadata": {},
          "output_type": "display_data"
        }
      ],
      "source": [
        "#duration is skewed to the right for Business\n",
        "plt.hist(Xy_b['duration'], edgecolor=\"red\", bins=30)\n",
        "plt.title('Freq Distribution')\n",
        "plt.xlabel('frequency')\n",
        "plt.ylabel('cnt')\n",
        "plt.show()"
      ]
    },
    {
      "cell_type": "code",
      "execution_count": null,
      "metadata": {
        "colab": {
          "base_uri": "https://localhost:8080/",
          "height": 1000
        },
        "id": "UPZcDv_Pm-b-",
        "outputId": "98841193-5fc8-4efa-ac51-11e7e2324032"
      },
      "outputs": [
        {
          "data": {
            "image/png": "[encoded data removed]",
            "text/plain": [
              "<Figure size 720x720 with 1 Axes>"
            ]
          },
          "metadata": {},
          "output_type": "display_data"
        },
        {
          "data": {
            "image/png": "[encoded data removed]",
            "text/plain": [
              "<Figure size 720x720 with 1 Axes>"
            ]
          },
          "metadata": {},
          "output_type": "display_data"
        },
        {
          "data": {
            "image/png": "[encoded data removed]",
            "text/plain": [
              "<Figure size 720x720 with 1 Axes>"
            ]
          },
          "metadata": {},
          "output_type": "display_data"
        }
      ],
      "source": [
        "#  qq plot for normal, sqrt and log transform of duration\n",
        "plt.rcParams[\"figure.figsize\"] = (10,10)\n",
        "sm.qqplot(Xy['duration'],  line='45')\n",
        "plt.show()\n",
        "\n",
        "plt.rcParams[\"figure.figsize\"] = (10,10)\n",
        "sm.qqplot(np.sqrt(Xy['duration']), line='45')\n",
        "plt.title('sqrt_duration')\n",
        "plt.show()\n",
        "\n",
        "plt.rcParams[\"figure.figsize\"] = (10,10)\n",
        "sm.qqplot(np.log2(Xy['duration']), line='45')\n",
        "plt.title('log_duration')\n",
        "plt.show()"
      ]
    },
    {
      "cell_type": "code",
      "execution_count": null,
      "metadata": {
        "colab": {
          "base_uri": "https://localhost:8080/",
          "height": 1000
        },
        "id": "3q2FhR-2pKSS",
        "outputId": "c4040bcb-00f1-4d4f-fac6-318d5090a997"
      },
      "outputs": [
        {
          "data": {
            "image/png": "[encoded data removed]",
            "text/plain": [
              "<Figure size 720x720 with 1 Axes>"
            ]
          },
          "metadata": {},
          "output_type": "display_data"
        },
        {
          "data": {
            "image/png": "[encoded data removed]",
            "text/plain": [
              "<Figure size 720x720 with 1 Axes>"
            ]
          },
          "metadata": {},
          "output_type": "display_data"
        },
        {
          "data": {
            "image/png": "[encoded data removed]",
            "text/plain": [
              "<Figure size 720x720 with 1 Axes>"
            ]
          },
          "metadata": {},
          "output_type": "display_data"
        }
      ],
      "source": [
        "#  qq plot for normal, sqrt and log transform of duration for Economy\n",
        "plt.rcParams[\"figure.figsize\"] = (10,10)\n",
        "sm.qqplot(Xy_e['duration'],  line='45')\n",
        "plt.show()\n",
        "\n",
        "plt.rcParams[\"figure.figsize\"] = (10,10)\n",
        "sm.qqplot(np.sqrt(Xy_e['duration']), line='45')\n",
        "plt.title('sqrt_duration')\n",
        "plt.show()\n",
        "\n",
        "plt.rcParams[\"figure.figsize\"] = (10,10)\n",
        "sm.qqplot(np.log2(Xy_e['duration']), line='45')\n",
        "plt.title('log_duration')\n",
        "plt.show()"
      ]
    },
    {
      "cell_type": "code",
      "execution_count": null,
      "metadata": {
        "colab": {
          "base_uri": "https://localhost:8080/",
          "height": 1000
        },
        "id": "uIUbbCONpKVP",
        "outputId": "bd7783cb-09eb-4c71-f649-e7753518251b"
      },
      "outputs": [
        {
          "data": {
            "image/png": "[encoded data removed]",
            "text/plain": [
              "<Figure size 720x720 with 1 Axes>"
            ]
          },
          "metadata": {},
          "output_type": "display_data"
        },
        {
          "data": {
            "image/png": "[encoded data removed]",
            "text/plain": [
              "<Figure size 720x720 with 1 Axes>"
            ]
          },
          "metadata": {},
          "output_type": "display_data"
        },
        {
          "data": {
            "image/png": "[encoded data removed]",
            "text/plain": [
              "<Figure size 720x720 with 1 Axes>"
            ]
          },
          "metadata": {},
          "output_type": "display_data"
        }
      ],
      "source": [
        "#  qq plot for normal, sqrt and log transform of duration for Business\n",
        "plt.rcParams[\"figure.figsize\"] = (10,10)\n",
        "sm.qqplot(Xy_b['duration'],  line='45')\n",
        "plt.show()\n",
        "\n",
        "plt.rcParams[\"figure.figsize\"] = (10,10)\n",
        "sm.qqplot(np.sqrt(Xy_b['duration']), line='45')\n",
        "plt.title('sqrt_duration')\n",
        "plt.show()\n",
        "\n",
        "plt.rcParams[\"figure.figsize\"] = (10,10)\n",
        "sm.qqplot(np.log2(Xy_b['duration']), line='45')\n",
        "plt.title('log_duration')\n",
        "plt.show()"
      ]
    },
    {
      "cell_type": "code",
      "execution_count": null,
      "metadata": {
        "colab": {
          "base_uri": "https://localhost:8080/",
          "height": 621
        },
        "id": "eTh2XgML3N_W",
        "outputId": "49a1efbf-2258-4818-c178-88103afc0653"
      },
      "outputs": [
        {
          "data": {
            "image/png": "[encoded data removed]",
            "text/plain": [
              "<Figure size 720x720 with 1 Axes>"
            ]
          },
          "metadata": {},
          "output_type": "display_data"
        }
      ],
      "source": [
        "# days_left is uniformly distributed\n",
        "plt.hist(Xy['days_left'], edgecolor=\"red\", bins=100)\n",
        "plt.title('Freq Distribution')\n",
        "plt.xlabel('frequency')\n",
        "plt.ylabel('cnt')\n",
        "plt.show()"
      ]
    },
    {
      "cell_type": "code",
      "execution_count": null,
      "metadata": {
        "id": "o4oKRr2kswHN"
      },
      "outputs": [],
      "source": [
        "def add_features(data):\n",
        "  df = data.copy()\n",
        "\n",
        "  df['sqrt_duration'] = np.sqrt(df['duration'])\n",
        "\n",
        "  # hubs\n",
        "  hubs_list = ['Mumbia', 'Delhi']\n",
        "\n",
        "  df['source_hub'] = df['source_city'].isin(hubs_list).astype(int)\n",
        "  df['destination_hub'] = df['destination_city'].isin(hubs_list).astype(int)\n",
        "\n",
        "  df['hub_to_hub'] = df['source_hub'] * df['destination_hub']\n",
        "\n",
        "  # peak demand flight\n",
        "  # https://www.thehindu.com/news/national/peak-hour-flights-may-get-costlier/article24428066.ece\n",
        "  peak_list = ['Early_morning', 'Morning', 'Evening', 'Night']\n",
        "\n",
        "  df['departure_peak'] = df['departure_time'].isin(peak_list).astype(int)\n",
        "  df['arrival_peak'] = df['arrival_time'].isin(peak_list).astype(int)\n",
        "\n",
        "  df['peak_to_peak'] = df['departure_peak'] * df['arrival_peak']\n",
        "\n",
        "  quant_cols=['duration','days_left']\n",
        "  for col in quant_cols:\n",
        "    col2 = col + '^2'\n",
        "    col3 = col + '^3'\n",
        "\n",
        "    df[col2] = df[col]**2\n",
        "    df[col3] = df[col]**3\n",
        "\n",
        "  return df"
      ]
    },
    {
      "cell_type": "code",
      "execution_count": null,
      "metadata": {
        "id": "Q89gZK813OCI"
      },
      "outputs": [],
      "source": [
        "Xy = add_features(data=Xy)\n",
        "Xy_b = add_features(data=Xy_b)\n",
        "Xy_e = add_features(data=Xy_e)\n",
        "\n",
        "Xy_ohe = add_features(data=Xy_ohe)\n",
        "Xy_b_ohe = add_features(data=Xy_b_ohe)\n",
        "Xy_e_ohe = add_features(data=Xy_e_ohe)"
      ]
    },
    {
      "cell_type": "code",
      "execution_count": null,
      "metadata": {
        "colab": {
          "base_uri": "https://localhost:8080/"
        },
        "id": "wsNeBxItMYxr",
        "outputId": "7887ed54-1b8f-4071-d8ff-e62e4510bba3"
      },
      "outputs": [
        {
          "output_type": "execute_result",
          "data": {
            "text/plain": [
              "Index(['duration', 'days_left', 'class_e', 'airline_e', 'source_city_e',\n",
              "       'destination_city_e', 'departure_time_e', 'arrival_time_e', 'stops_e',\n",
              "       'sqrt_duration', 'source_hub', 'destination_hub', 'hub_to_hub',\n",
              "       'departure_peak', 'arrival_peak', 'peak_to_peak', 'duration^2',\n",
              "       'duration^3', 'days_left^2', 'days_left^3'],\n",
              "      dtype='object')"
            ]
          },
          "metadata": {},
          "execution_count": 679
        }
      ],
      "source": [
        "le_drop_list = ohe_list + [target]\n",
        "\n",
        "X = Xy.drop(le_drop_list, axis=1).copy()\n",
        "y = Xy[[target]].copy()\n",
        "\n",
        "X_train, X_test, y_train, y_test = model_selection.train_test_split(X, \n",
        "                                                                    y, \n",
        "                                                                    test_size=0.20, \n",
        "                                                                    random_state=random_state) \n",
        "\n",
        "X.columns"
      ]
    },
    {
      "cell_type": "code",
      "execution_count": null,
      "metadata": {
        "colab": {
          "base_uri": "https://localhost:8080/"
        },
        "id": "5F1yYetUMZH7",
        "outputId": "1fb43d37-81ff-4458-a3a5-c05e77226dd6"
      },
      "outputs": [
        {
          "output_type": "execute_result",
          "data": {
            "text/plain": [
              "Index(['duration', 'days_left', 'class_e', 'airline_e', 'source_city_e',\n",
              "       'destination_city_e', 'departure_time_e', 'arrival_time_e', 'stops_e',\n",
              "       'sqrt_duration', 'source_hub', 'destination_hub', 'hub_to_hub',\n",
              "       'departure_peak', 'arrival_peak', 'peak_to_peak', 'duration^2',\n",
              "       'duration^3', 'days_left^2', 'days_left^3'],\n",
              "      dtype='object')"
            ]
          },
          "metadata": {},
          "execution_count": 680
        }
      ],
      "source": [
        "# Xy_e and Xy_b\n",
        "X_e = Xy_e.drop(le_drop_list, axis=1).copy()\n",
        "y_e = Xy_e[[target]].copy()\n",
        "\n",
        "X_e_train, X_e_test, y_e_train, y_e_test = model_selection.train_test_split(X_e, \n",
        "                                                                    y_e, \n",
        "                                                                    test_size=0.20, \n",
        "                                                                    random_state=random_state) \n",
        "\n",
        "X_e.columns"
      ]
    },
    {
      "cell_type": "code",
      "execution_count": null,
      "metadata": {
        "colab": {
          "base_uri": "https://localhost:8080/"
        },
        "id": "iVVhn0e1MZKd",
        "outputId": "6c305030-5ace-4321-ecb1-ef7719520383"
      },
      "outputs": [
        {
          "output_type": "execute_result",
          "data": {
            "text/plain": [
              "Index(['duration', 'days_left', 'class_e', 'airline_e', 'source_city_e',\n",
              "       'destination_city_e', 'departure_time_e', 'arrival_time_e', 'stops_e',\n",
              "       'sqrt_duration', 'source_hub', 'destination_hub', 'hub_to_hub',\n",
              "       'departure_peak', 'arrival_peak', 'peak_to_peak', 'duration^2',\n",
              "       'duration^3', 'days_left^2', 'days_left^3'],\n",
              "      dtype='object')"
            ]
          },
          "metadata": {},
          "execution_count": 681
        }
      ],
      "source": [
        "# Xy_e and Xy_b\n",
        "X_b = Xy_b.drop(le_drop_list, axis=1).copy()\n",
        "y_b = Xy_b[[target]].copy()\n",
        "\n",
        "X_b_train, X_b_test, y_b_train, y_b_test = model_selection.train_test_split(X_b, \n",
        "                                                                    y_b, \n",
        "                                                                    test_size=0.20, \n",
        "                                                                    random_state=random_state) \n",
        "\n",
        "X_b.columns"
      ]
    },
    {
      "cell_type": "code",
      "execution_count": null,
      "metadata": {
        "colab": {
          "base_uri": "https://localhost:8080/"
        },
        "id": "w7lf341yMZRG",
        "outputId": "948637e1-9a4d-4d91-c108-314e16f9c140"
      },
      "outputs": [
        {
          "output_type": "execute_result",
          "data": {
            "text/plain": [
              "Index(['duration', 'days_left', 'class_Economy', 'airline_AirAsia',\n",
              "       'airline_GO_FIRST', 'airline_Indigo', 'airline_SpiceJet',\n",
              "       'airline_Vistara', 'source_city_Bangalore', 'source_city_Delhi',\n",
              "       'source_city_Hyderabad', 'source_city_Kolkata', 'source_city_Mumbai',\n",
              "       'destination_city_Bangalore', 'destination_city_Delhi',\n",
              "       'destination_city_Hyderabad', 'destination_city_Kolkata',\n",
              "       'destination_city_Mumbai', 'departure_time_Afternoon',\n",
              "       'departure_time_Evening', 'departure_time_Late_Night',\n",
              "       'departure_time_Morning', 'departure_time_Night',\n",
              "       'arrival_time_Afternoon', 'arrival_time_Evening',\n",
              "       'arrival_time_Late_Night', 'arrival_time_Morning', 'arrival_time_Night',\n",
              "       'stops_one', 'stops_two_or_more', 'sqrt_duration', 'source_hub',\n",
              "       'destination_hub', 'hub_to_hub', 'departure_peak', 'arrival_peak',\n",
              "       'peak_to_peak', 'duration^2', 'duration^3', 'days_left^2',\n",
              "       'days_left^3'],\n",
              "      dtype='object')"
            ]
          },
          "metadata": {},
          "execution_count": 682
        }
      ],
      "source": [
        "# list for dropping one_hot_encode\n",
        "ohe_drop_list = ohe_list + ['class_Business',\n",
        "                 'airline_Air_India',\n",
        "                 'source_city_Chennai',\n",
        "                 'destination_city_Chennai',\n",
        "                 'departure_time_Early_Morning',\n",
        "                 'arrival_time_Early_Morning',\n",
        "                 'stops_zero'\n",
        "                 ] + [target]\n",
        "\n",
        "\n",
        "X_ohe = Xy_ohe.drop(ohe_drop_list, axis=1).copy()\n",
        "y_ohe = Xy_ohe[[target]].copy()\n",
        "\n",
        "X_ohe_train, X_ohe_test, y_ohe_train, y_ohe_test = model_selection.train_test_split(X_ohe, \n",
        "                                                                    y_ohe, \n",
        "                                                                    test_size=0.20, \n",
        "                                                                    random_state=random_state) \n",
        "\n",
        "X_ohe.columns"
      ]
    },
    {
      "cell_type": "code",
      "execution_count": null,
      "metadata": {
        "colab": {
          "base_uri": "https://localhost:8080/"
        },
        "id": "AZgCtAR7MZhC",
        "outputId": "c363b7a5-e262-4fb5-f58f-252ca8754802"
      },
      "outputs": [
        {
          "output_type": "execute_result",
          "data": {
            "text/plain": [
              "Index(['duration', 'days_left', 'airline_AirAsia', 'airline_GO_FIRST',\n",
              "       'airline_Indigo', 'airline_SpiceJet', 'airline_Vistara',\n",
              "       'source_city_Bangalore', 'source_city_Delhi', 'source_city_Hyderabad',\n",
              "       'source_city_Kolkata', 'source_city_Mumbai',\n",
              "       'destination_city_Bangalore', 'destination_city_Delhi',\n",
              "       'destination_city_Hyderabad', 'destination_city_Kolkata',\n",
              "       'destination_city_Mumbai', 'departure_time_Afternoon',\n",
              "       'departure_time_Evening', 'departure_time_Late_Night',\n",
              "       'departure_time_Morning', 'departure_time_Night',\n",
              "       'arrival_time_Afternoon', 'arrival_time_Evening',\n",
              "       'arrival_time_Late_Night', 'arrival_time_Morning', 'arrival_time_Night',\n",
              "       'stops_one', 'stops_two_or_more', 'sqrt_duration', 'source_hub',\n",
              "       'destination_hub', 'hub_to_hub', 'departure_peak', 'arrival_peak',\n",
              "       'peak_to_peak', 'duration^2', 'duration^3', 'days_left^2',\n",
              "       'days_left^3'],\n",
              "      dtype='object')"
            ]
          },
          "metadata": {},
          "execution_count": 683
        }
      ],
      "source": [
        "ohe_drop_list = ohe_list + ['class_Business',\n",
        "                 'airline_Air_India',\n",
        "                 'source_city_Chennai',\n",
        "                 'destination_city_Chennai',\n",
        "                 'departure_time_Early_Morning',\n",
        "                 'arrival_time_Early_Morning',\n",
        "                 'stops_zero'\n",
        "                 ] + [target, 'class_Economy']\n",
        "\n",
        "# Xy_e and Xy_b\n",
        "X_e_ohe = Xy_e_ohe.drop(ohe_drop_list, axis=1).copy()\n",
        "y_e_ohe = Xy_e_ohe[[target]].copy()\n",
        "\n",
        "X_e_ohe_train, X_e_ohe_test, y_e_ohe_train, y_e_ohe_test = model_selection.train_test_split(X_e_ohe, \n",
        "                                                                    y_e_ohe, \n",
        "                                                                    test_size=0.20, \n",
        "                                                                    random_state=random_state) \n",
        "\n",
        "X_e_ohe.columns"
      ]
    },
    {
      "cell_type": "code",
      "execution_count": null,
      "metadata": {
        "colab": {
          "base_uri": "https://localhost:8080/"
        },
        "id": "42HArC6rMtzd",
        "outputId": "ce083d1f-2a66-4d7f-9293-b5395d4fe071"
      },
      "outputs": [
        {
          "output_type": "execute_result",
          "data": {
            "text/plain": [
              "Index(['duration', 'days_left', 'airline_AirAsia', 'airline_GO_FIRST',\n",
              "       'airline_Indigo', 'airline_SpiceJet', 'airline_Vistara',\n",
              "       'source_city_Bangalore', 'source_city_Delhi', 'source_city_Hyderabad',\n",
              "       'source_city_Kolkata', 'source_city_Mumbai',\n",
              "       'destination_city_Bangalore', 'destination_city_Delhi',\n",
              "       'destination_city_Hyderabad', 'destination_city_Kolkata',\n",
              "       'destination_city_Mumbai', 'departure_time_Afternoon',\n",
              "       'departure_time_Evening', 'departure_time_Late_Night',\n",
              "       'departure_time_Morning', 'departure_time_Night',\n",
              "       'arrival_time_Afternoon', 'arrival_time_Evening',\n",
              "       'arrival_time_Late_Night', 'arrival_time_Morning', 'arrival_time_Night',\n",
              "       'stops_one', 'stops_two_or_more', 'sqrt_duration', 'source_hub',\n",
              "       'destination_hub', 'hub_to_hub', 'departure_peak', 'arrival_peak',\n",
              "       'peak_to_peak', 'duration^2', 'duration^3', 'days_left^2',\n",
              "       'days_left^3'],\n",
              "      dtype='object')"
            ]
          },
          "metadata": {},
          "execution_count": 684
        }
      ],
      "source": [
        "X_b_ohe = Xy_b_ohe.drop(ohe_drop_list, axis=1).copy()\n",
        "y_b_ohe = Xy_b_ohe[[target]].copy()\n",
        "\n",
        "X_b_ohe_train, X_b_ohe_test, y_b_ohe_train, y_b_ohe_test = model_selection.train_test_split(X_b_ohe, \n",
        "                                                                    y_b_ohe, \n",
        "                                                                    test_size=0.20, \n",
        "                                                                    random_state=random_state) \n",
        "\n",
        "X_b_ohe.columns"
      ]
    },
    {
      "cell_type": "markdown",
      "metadata": {
        "id": "KZpkje-lXsdB"
      },
      "source": [
        "### Linear Regression"
      ]
    },
    {
      "cell_type": "code",
      "execution_count": null,
      "metadata": {
        "colab": {
          "base_uri": "https://localhost:8080/"
        },
        "id": "L3fAN2dnNBOd",
        "outputId": "309fec4c-311e-48be-e636-3ae969f0b8a1"
      },
      "outputs": [
        {
          "name": "stdout",
          "output_type": "stream",
          "text": [
            "General\n",
            "Non-nested Tuning:\n",
            "  Model:  LinearRegression(n_jobs=-1)\n",
            "  Parameterization:  {'fit_intercept': True, 'positive': False}\n",
            "  Non-nested CV neg_root_mean_squared_error score:  6603.29\n",
            "\n",
            "Nested Tuning:\n",
            "  Nested CV neg_root_mean_squared_error mean:  6603.29  with st.dev (+/-):  20.53\n"
          ]
        }
      ],
      "source": [
        "clf_lr = linear_model.LinearRegression(n_jobs=-1)\n",
        "\n",
        "# two parameters to optimize\n",
        "fit_intercept_list = [True, False]\n",
        "positive_list = [True, False]\n",
        "\n",
        "# select the optimal parameters\n",
        "gs_lr = model_selection.GridSearchCV(\n",
        "    estimator=clf_lr,\n",
        "    param_grid=[{\n",
        "        'fit_intercept': fit_intercept_list,\n",
        "        'positive': positive_list}],\n",
        "    scoring=scoring,                                      \n",
        "    cv=inner_cv) \n",
        "\n",
        "gs_lr_fit = gs_lr.fit(X_ohe_train,y_ohe_train)\n",
        "\n",
        "print('General')\n",
        "print(\"Non-nested Tuning:\")\n",
        "print(\"  Model: \", gs_lr_fit.best_estimator_)\n",
        "print(\"  Parameterization: \", gs_lr_fit.best_params_)\n",
        "print(\"  Non-nested CV {} score: \".format(scoring), round(-1 * gs_lr_fit.best_score_, 2))\n",
        "\n",
        "\n",
        "# generalization performance\n",
        "nested_gs_lr_fit= model_selection.cross_val_score(\n",
        "    gs_lr_fit, \n",
        "    X=X_ohe_train, \n",
        "    y=y_ohe_train, \n",
        "    scoring=scoring,\n",
        "    cv=outer_cv)\n",
        "\n",
        "print(\"\\nNested Tuning:\")\n",
        "print(\"  Nested CV {} mean: \".format(scoring), round(-1 * nested_gs_lr_fit.mean(), 2), \" with st.dev (+/-): \", round(nested_gs_lr_fit.std(),2))"
      ]
    },
    {
      "cell_type": "code",
      "execution_count": null,
      "metadata": {
        "colab": {
          "base_uri": "https://localhost:8080/"
        },
        "id": "G_WlsMIXNBrY",
        "outputId": "c52a99d6-512b-440d-9053-9ea086abb72e"
      },
      "outputs": [
        {
          "name": "stdout",
          "output_type": "stream",
          "text": [
            "Economy\n",
            "Non-nested Tuning:\n",
            "  Model:  LinearRegression(n_jobs=-1)\n",
            "  Parameterization:  {'fit_intercept': True, 'positive': False}\n",
            "  Non-nested CV neg_root_mean_squared_error score:  2345.68\n",
            "\n",
            "Nested Tuning:\n",
            "  Nested CV neg_root_mean_squared_error mean:  2345.68  with st.dev (+/-):  9.13\n"
          ]
        }
      ],
      "source": [
        "clf_lr = linear_model.LinearRegression(n_jobs=-1)\n",
        "\n",
        "# two parameters to optimize\n",
        "fit_intercept_list = [True, False]\n",
        "positive_list = [True, False]\n",
        "\n",
        "# select the optimal parameters\n",
        "gs_lr = model_selection.GridSearchCV(\n",
        "    estimator=clf_lr,\n",
        "    param_grid=[{\n",
        "        'fit_intercept': fit_intercept_list,\n",
        "        'positive': positive_list}],\n",
        "    scoring=scoring,                                      \n",
        "    cv=inner_cv) \n",
        "\n",
        "gs_lr_fit = gs_lr.fit(X_e_ohe_train,y_e_ohe_train)\n",
        "\n",
        "print('Economy')\n",
        "print(\"Non-nested Tuning:\")\n",
        "print(\"  Model: \", gs_lr_fit.best_estimator_)\n",
        "print(\"  Parameterization: \", gs_lr_fit.best_params_)\n",
        "print(\"  Non-nested CV {} score: \".format(scoring), round(-1 * gs_lr_fit.best_score_, 2))\n",
        "\n",
        "\n",
        "# generalization performance\n",
        "nested_gs_lr_fit= model_selection.cross_val_score(\n",
        "    gs_lr_fit, \n",
        "    X=X_e_ohe_train, \n",
        "    y=y_e_ohe_train, \n",
        "    scoring=scoring,\n",
        "    cv=outer_cv)\n",
        "\n",
        "print(\"\\nNested Tuning:\")\n",
        "print(\"  Nested CV {} mean: \".format(scoring), round(-1 * nested_gs_lr_fit.mean(), 2), \" with st.dev (+/-): \", round(nested_gs_lr_fit.std(),2))\n",
        "\n",
        "e_rmse = -1 * nested_gs_tree_fit.mean()"
      ]
    },
    {
      "cell_type": "code",
      "execution_count": null,
      "metadata": {
        "colab": {
          "base_uri": "https://localhost:8080/"
        },
        "id": "-7ntLjRQNQWN",
        "outputId": "5176ceaf-44e8-4413-eb4e-6ead3c3d745a"
      },
      "outputs": [
        {
          "name": "stdout",
          "output_type": "stream",
          "text": [
            "Business\n",
            "Non-nested Tuning:\n",
            "  Model:  LinearRegression(n_jobs=-1)\n",
            "  Parameterization:  {'fit_intercept': True, 'positive': False}\n",
            "  Non-nested CV neg_root_mean_squared_error score:  8544.08\n",
            "\n",
            "Nested Tuning:\n",
            "  Nested CV neg_root_mean_squared_error mean:  8544.08  with st.dev (+/-):  50.31\n"
          ]
        }
      ],
      "source": [
        "clf_lr = linear_model.LinearRegression(n_jobs=-1)\n",
        "\n",
        "# two parameters to optimize\n",
        "fit_intercept_list = [True, False]\n",
        "positive_list = [True, False]\n",
        "\n",
        "# select the optimal parameters\n",
        "gs_lr = model_selection.GridSearchCV(\n",
        "    estimator=clf_lr,\n",
        "    param_grid=[{\n",
        "        'fit_intercept': fit_intercept_list,\n",
        "        'positive': positive_list}],\n",
        "    scoring=scoring,                                      \n",
        "    cv=inner_cv) \n",
        "\n",
        "gs_lr_fit = gs_lr.fit(X_b_ohe_train,y_b_ohe_train)\n",
        "\n",
        "print('Business')\n",
        "print(\"Non-nested Tuning:\")\n",
        "print(\"  Model: \", gs_lr_fit.best_estimator_)\n",
        "print(\"  Parameterization: \", gs_lr_fit.best_params_)\n",
        "print(\"  Non-nested CV {} score: \".format(scoring), round(-1 * gs_lr_fit.best_score_, 2))\n",
        "\n",
        "\n",
        "# generalization performance\n",
        "nested_gs_lr_fit= model_selection.cross_val_score(\n",
        "    gs_lr_fit, \n",
        "    X=X_b_ohe_train, \n",
        "    y=y_b_ohe_train, \n",
        "    scoring=scoring,\n",
        "    cv=outer_cv)\n",
        "\n",
        "print(\"\\nNested Tuning:\")\n",
        "print(\"  Nested CV {} mean: \".format(scoring), round(-1 * nested_gs_lr_fit.mean(), 2), \" with st.dev (+/-): \", round(nested_gs_lr_fit.std(),2))\n",
        "\n",
        "b_rmse = -1 * nested_gs_tree_fit.mean()"
      ]
    },
    {
      "cell_type": "code",
      "execution_count": null,
      "metadata": {
        "colab": {
          "base_uri": "https://localhost:8080/"
        },
        "id": "wdpWWEXnKcfn",
        "outputId": "e9ae9143-1ced-4bf3-b0ea-99ef6b7ecdf1"
      },
      "outputs": [
        {
          "name": "stdout",
          "output_type": "stream",
          "text": [
            "4742.49\n"
          ]
        }
      ],
      "source": [
        "avg_rmse = calculate_avg_score(e_rmse, b_rmse)\n",
        "print(round(avg_rmse, 2))"
      ]
    },
    {
      "cell_type": "markdown",
      "metadata": {
        "id": "2ZTBTwxKOH5V"
      },
      "source": [
        "### Decision Tree"
      ]
    },
    {
      "cell_type": "code",
      "execution_count": null,
      "metadata": {
        "colab": {
          "background_save": true
        },
        "id": "mo78wmolNBzu",
        "outputId": "d25fc9c8-0675-4d76-f97d-28ba7f3514ca"
      },
      "outputs": [
        {
          "name": "stdout",
          "output_type": "stream",
          "text": [
            "General\n",
            "Non-nested Tuning:\n",
            "  Model:  DecisionTreeRegressor(max_depth=30, min_samples_split=30, random_state=42)\n",
            "  Parameterization:  {'max_depth': 30, 'min_samples_split': 30}\n",
            "  Non-nested CV neg_root_mean_squared_error score:  2944.26\n",
            "nested Tuning:\n",
            "  Nested CV neg_root_mean_squared_error mean:  2944.1  with st.dev (+/-):  17.59\n"
          ]
        }
      ],
      "source": [
        "# create a model\n",
        "clf_tree = tree.DecisionTreeRegressor(criterion='squared_error',\n",
        "                                      random_state=random_state)\n",
        "\n",
        "# two parameters to optimize\n",
        "min_samples_split_list = [10, 20, 30, 40, 50]\n",
        "max_depth_list = [10, 20, 30, 40, 50]\n",
        "\n",
        "# select the optimal parameters \n",
        "gs_tree = model_selection.GridSearchCV(estimator=clf_tree,\n",
        "                                       param_grid=[{\n",
        "                                           'min_samples_split': min_samples_split_list,\n",
        "                                           'max_depth': max_depth_list}],\n",
        "                                       scoring=scoring,                                      \n",
        "                                       cv=inner_cv) \n",
        "\n",
        "gs_tree_fit = gs_tree.fit(X_train,y_train)\n",
        "\n",
        "print('General')\n",
        "print(\"Non-nested Tuning:\")\n",
        "print(\"  Model: \", gs_tree_fit.best_estimator_)\n",
        "print(\"  Parameterization: \", gs_tree_fit.best_params_)\n",
        "print(\"  Non-nested CV {} score: \".format(scoring), round(-1 * gs_tree_fit.best_score_, 2))\n",
        "\n",
        "# generalization performance\n",
        "nested_gs_tree_fit = model_selection.cross_val_score(gs_tree_fit, \n",
        "                                                     X=X_train, \n",
        "                                                     y=y_train, \n",
        "                                                     scoring=scoring,\n",
        "                                                     cv=outer_cv)\n",
        "\n",
        "print(\"nested Tuning:\")\n",
        "print(\"  Nested CV {} mean: \".format(scoring), round(-1 * nested_gs_tree_fit.mean(),2), \" with st.dev (+/-): \", round(nested_gs_tree_fit.std(),2))"
      ]
    },
    {
      "cell_type": "code",
      "execution_count": null,
      "metadata": {
        "colab": {
          "background_save": true
        },
        "id": "Woxz7b8lNCD4",
        "outputId": "7057fbe6-78aa-4a7b-a00a-765294853eaf"
      },
      "outputs": [
        {
          "name": "stdout",
          "output_type": "stream",
          "text": [
            "Economy\n",
            "Non-nested Tuning:\n",
            "  Model:  DecisionTreeRegressor(max_depth=40, min_samples_split=20, random_state=42)\n",
            "  Parameterization:  {'max_depth': 40, 'min_samples_split': 20}\n",
            "  Non-nested CV neg_root_mean_squared_error score:  1690.15\n",
            "nested Tuning:\n",
            "  Nested CV neg_root_mean_squared_error mean:  1690.33  with st.dev (+/-):  14.73\n"
          ]
        }
      ],
      "source": [
        "# create a model\n",
        "clf_tree = tree.DecisionTreeRegressor(criterion='squared_error',\n",
        "                                      random_state=random_state)\n",
        "\n",
        "# two parameters to optimize\n",
        "min_samples_split_list = [10, 20, 30, 40, 50]\n",
        "max_depth_list = [10, 20, 30, 40, 50]\n",
        "\n",
        "# select the optimal parameters \n",
        "gs_tree = model_selection.GridSearchCV(estimator=clf_tree,\n",
        "                                       param_grid=[{\n",
        "                                           'min_samples_split': min_samples_split_list,\n",
        "                                           'max_depth': max_depth_list}],\n",
        "                                       scoring=scoring,                                      \n",
        "                                       cv=inner_cv) \n",
        "\n",
        "gs_tree_fit = gs_tree.fit(X_e_train,y_e_train)\n",
        "\n",
        "print('Economy')\n",
        "print(\"Non-nested Tuning:\")\n",
        "print(\"  Model: \", gs_tree_fit.best_estimator_)\n",
        "print(\"  Parameterization: \", gs_tree_fit.best_params_)\n",
        "print(\"  Non-nested CV {} score: \".format(scoring), round(-1 * gs_tree_fit.best_score_, 2))\n",
        "\n",
        "# generalization performance\n",
        "nested_gs_tree_fit = model_selection.cross_val_score(gs_tree_fit, \n",
        "                                                     X=X_e_train, \n",
        "                                                     y=y_e_train, \n",
        "                                                     scoring=scoring,\n",
        "                                                     cv=outer_cv)\n",
        "\n",
        "print(\"nested Tuning:\")\n",
        "print(\"  Nested CV {} mean: \".format(scoring), round(-1 * nested_gs_tree_fit.mean(),2), \" with st.dev (+/-): \", round(nested_gs_tree_fit.std(),2))\n",
        "\n",
        "e_rmse = -1 * nested_gs_tree_fit.mean()"
      ]
    },
    {
      "cell_type": "code",
      "execution_count": null,
      "metadata": {
        "colab": {
          "background_save": true
        },
        "id": "RrP-8DmcNDGe",
        "outputId": "7368e2f9-5732-41b1-f420-364a498046ee"
      },
      "outputs": [
        {
          "name": "stdout",
          "output_type": "stream",
          "text": [
            "Business\n",
            "Non-nested Tuning:\n",
            "  Model:  DecisionTreeRegressor(max_depth=40, min_samples_split=30, random_state=42)\n",
            "  Parameterization:  {'max_depth': 40, 'min_samples_split': 30}\n",
            "  Non-nested CV neg_root_mean_squared_error score:  4711.02\n",
            "nested Tuning:\n",
            "  Nested CV neg_root_mean_squared_error mean:  4711.14  with st.dev (+/-):  65.6\n"
          ]
        }
      ],
      "source": [
        "# create a model\n",
        "clf_tree = tree.DecisionTreeRegressor(criterion='squared_error',\n",
        "                                      random_state=random_state)\n",
        "\n",
        "# two parameters to optimize\n",
        "min_samples_split_list = [10, 20, 30, 40, 50]\n",
        "max_depth_list = [10, 20, 30, 40, 50]\n",
        "\n",
        "# select the optimal parameters \n",
        "gs_tree = model_selection.GridSearchCV(estimator=clf_tree,\n",
        "                                       param_grid=[{\n",
        "                                           'min_samples_split': min_samples_split_list,\n",
        "                                           'max_depth': max_depth_list}],\n",
        "                                       scoring=scoring,                                      \n",
        "                                       cv=inner_cv) \n",
        "\n",
        "gs_tree_fit = gs_tree.fit(X_b_train,y_b_train)\n",
        "\n",
        "print('Business')\n",
        "print(\"Non-nested Tuning:\")\n",
        "print(\"  Model: \", gs_tree_fit.best_estimator_)\n",
        "print(\"  Parameterization: \", gs_tree_fit.best_params_)\n",
        "print(\"  Non-nested CV {} score: \".format(scoring), round(-1 * gs_tree_fit.best_score_, 2))\n",
        "\n",
        "# generalization performance\n",
        "nested_gs_tree_fit = model_selection.cross_val_score(gs_tree_fit, \n",
        "                                                     X=X_b_train, \n",
        "                                                     y=y_b_train, \n",
        "                                                     scoring=scoring,\n",
        "                                                     cv=outer_cv)\n",
        "\n",
        "print(\"nested Tuning:\")\n",
        "print(\"  Nested CV {} mean: \".format(scoring), round(-1 * nested_gs_tree_fit.mean(),2), \" with st.dev (+/-): \", round(nested_gs_tree_fit.std(),2))\n",
        "\n",
        "b_rmse = -1 * nested_gs_tree_fit.mean()"
      ]
    },
    {
      "cell_type": "code",
      "execution_count": null,
      "metadata": {
        "colab": {
          "background_save": true
        },
        "id": "pKBs18B8KdpY",
        "outputId": "4a7e6674-7320-4310-e3da-7589abe4f258"
      },
      "outputs": [
        {
          "name": "stdout",
          "output_type": "stream",
          "text": [
            "2631.2\n"
          ]
        }
      ],
      "source": [
        "avg_rmse = calculate_avg_score(e_rmse, b_rmse)\n",
        "print(round(avg_rmse, 2))"
      ]
    },
    {
      "cell_type": "markdown",
      "metadata": {
        "id": "Jeoa4mClYh9r"
      },
      "source": [
        "## Best Model\n",
        "Perform grid-search one more time with a more specific set of hyperparameters."
      ]
    },
    {
      "cell_type": "markdown",
      "source": [
        "### Economy"
      ],
      "metadata": {
        "id": "mmpu-csNqEHp"
      }
    },
    {
      "cell_type": "code",
      "execution_count": null,
      "metadata": {
        "id": "EigNPjRUZqiA",
        "colab": {
          "base_uri": "https://localhost:8080/"
        },
        "outputId": "36748b7d-87c3-4fd3-bd49-adc064ef8e2d"
      },
      "outputs": [
        {
          "output_type": "stream",
          "name": "stdout",
          "text": [
            "Economy\n",
            "Non-nested Tuning:\n",
            "  Model:  DecisionTreeRegressor(max_depth=35, min_samples_split=16, random_state=42)\n",
            "  Parameterization:  {'max_depth': 35, 'min_samples_split': 16}\n",
            "  Non-nested CV neg_root_mean_squared_error score:  1688.18\n"
          ]
        }
      ],
      "source": [
        "# create a model\n",
        "clf_tree = tree.DecisionTreeRegressor(criterion='squared_error',\n",
        "                                      random_state=random_state)\n",
        "\n",
        "# two parameters to optimize\n",
        "# pick the optimal number\n",
        "min_samples_split_list = [14, 15, 16, 18, 20, 22, 24, 25, 26]\n",
        "max_depth_list = [34, 35, 36, 38, 40, 42, 44, 45, 46]\n",
        "\n",
        "# select the optimal parameters \n",
        "gs_tree = model_selection.GridSearchCV(estimator=clf_tree,\n",
        "                                       param_grid=[{\n",
        "                                           'min_samples_split': min_samples_split_list,\n",
        "                                           'max_depth': max_depth_list}],\n",
        "                                       scoring=scoring,                                      \n",
        "                                       cv=inner_cv) \n",
        "\n",
        "gs_tree_fit = gs_tree.fit(X_e_train,y_e_train)\n",
        "\n",
        "print('Economy')\n",
        "print(\"Non-nested Tuning:\")\n",
        "print(\"  Model: \", gs_tree_fit.best_estimator_)\n",
        "print(\"  Parameterization: \", gs_tree_fit.best_params_)\n",
        "print(\"  Non-nested CV {} score: \".format(scoring), round(-1 * gs_tree_fit.best_score_, 2))"
      ]
    },
    {
      "cell_type": "code",
      "source": [
        "clf_tree = tree.DecisionTreeRegressor(criterion='squared_error',\n",
        "                                      min_samples_split=16,\n",
        "                                      max_depth=35,\n",
        "                                      random_state=random_state)\n",
        "\n",
        "clf_tree_fit = clf_tree.fit(X_e_train, y_e_train)\n",
        "\n",
        "y_pred = clf_tree_fit.predict(X_e_test)\n",
        "\n",
        "e_rmse = metrics.mean_squared_error(y_pred, y_e_test, squared=False)"
      ],
      "metadata": {
        "id": "zZ5Co5N1fXKA"
      },
      "execution_count": null,
      "outputs": []
    },
    {
      "cell_type": "markdown",
      "source": [
        "### Business"
      ],
      "metadata": {
        "id": "9bJQPl9jqGIc"
      }
    },
    {
      "cell_type": "code",
      "source": [
        "# create a model\n",
        "clf_tree = tree.DecisionTreeRegressor(criterion='squared_error',\n",
        "                                      random_state=random_state)\n",
        "\n",
        "# two parameters to optimize\n",
        "min_samples_split_list = [24, 25, 26, 28, 30, 32, 34, 35, 36]\n",
        "max_depth_list = [34, 35, 36, 38, 40, 42, 44, 45, 46]\n",
        "\n",
        "# select the optimal parameters\n",
        "# pick the optimal number\n",
        "gs_tree = model_selection.GridSearchCV(estimator=clf_tree,\n",
        "                                       param_grid=[{\n",
        "                                           'min_samples_split': min_samples_split_list,\n",
        "                                           'max_depth': max_depth_list}],\n",
        "                                       scoring=scoring,                                      \n",
        "                                       cv=inner_cv) \n",
        "\n",
        "gs_tree_fit = gs_tree.fit(X_b_train,y_b_train)\n",
        "\n",
        "print('Business')\n",
        "print(\"Non-nested Tuning:\")\n",
        "print(\"  Model: \", gs_tree_fit.best_estimator_)\n",
        "print(\"  Parameterization: \", gs_tree_fit.best_params_)\n",
        "print(\"  Non-nested CV {} score: \".format(scoring), round(-1 * gs_tree_fit.best_score_, 2))"
      ],
      "metadata": {
        "colab": {
          "base_uri": "https://localhost:8080/"
        },
        "id": "Un8ay3u5a8Qi",
        "outputId": "077bf52d-ccf9-46f0-fdb4-0b74c232e99c"
      },
      "execution_count": null,
      "outputs": [
        {
          "output_type": "stream",
          "name": "stdout",
          "text": [
            "Business\n",
            "Non-nested Tuning:\n",
            "  Model:  DecisionTreeRegressor(max_depth=34, min_samples_split=32, random_state=42)\n",
            "  Parameterization:  {'max_depth': 34, 'min_samples_split': 32}\n",
            "  Non-nested CV neg_root_mean_squared_error score:  4707.1\n"
          ]
        }
      ]
    },
    {
      "cell_type": "code",
      "source": [
        "clf_tree = tree.DecisionTreeRegressor(criterion='squared_error',\n",
        "                                      min_samples_split=32,\n",
        "                                      max_depth=34,\n",
        "                                      random_state=random_state)\n",
        "\n",
        "clf_tree_fit = clf_tree.fit(X_b_train, y_b_train)\n",
        "\n",
        "y_pred = clf_tree_fit.predict(X_b_test)\n",
        "\n",
        "b_rmse = metrics.mean_squared_error(y_pred, y_b_test, squared=False)"
      ],
      "metadata": {
        "id": "I4qpwXX1e6GF"
      },
      "execution_count": null,
      "outputs": []
    },
    {
      "cell_type": "code",
      "source": [
        "avg_rmse = calculate_avg_score(e_rmse, b_rmse)\n",
        "print(round(avg_rmse, 2))"
      ],
      "metadata": {
        "colab": {
          "base_uri": "https://localhost:8080/"
        },
        "id": "DiiiyeVpe-eO",
        "outputId": "1f8e3f99-4126-4b01-97c2-100bac763d60"
      },
      "execution_count": null,
      "outputs": [
        {
          "output_type": "stream",
          "name": "stdout",
          "text": [
            "2499.51\n"
          ]
        }
      ]
    }
  ],
  "metadata": {
    "colab": {
      "toc_visible": true,
      "provenance": []
    },
    "kernelspec": {
      "display_name": "Python 3",
      "name": "python3"
    },
    "language_info": {
      "name": "python"
    }
  },
  "nbformat": 4,
  "nbformat_minor": 0
}