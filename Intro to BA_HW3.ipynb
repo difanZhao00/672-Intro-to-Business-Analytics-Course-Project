{
  "cells": [
    {
      "cell_type": "code",
      "execution_count": null,
      "metadata": {
        "id": "xsdcdPPQhCLV"
      },
      "outputs": [],
      "source": [
        "# import libraries\n",
        "import os\n",
        "import requests\n",
        "\n",
        "import numpy as np\n",
        "import pandas as pd\n",
        "import matplotlib.pyplot as plt\n",
        "\n",
        "from sklearn import linear_model\n",
        "from sklearn import model_selection\n",
        "from sklearn import metrics\n",
        "from sklearn import neighbors\n",
        "from sklearn import pipeline\n",
        "from sklearn import preprocessing\n",
        "from sklearn import tree\n",
        "\n",
        "# set random_state\n",
        "random_state = 42"
      ]
    },
    {
      "cell_type": "code",
      "execution_count": null,
      "metadata": {
        "id": "Icd59P5pk99H"
      },
      "outputs": [],
      "source": [
        "# import from url\n",
        "url = 'http://archive.ics.uci.edu/ml/machine-learning-databases/breast-cancer-wisconsin/wdbc.data'\n",
        "r = requests.get(url)\n",
        "open('temp.csv', 'wb').write(r.content)\n",
        "df = pd.read_csv('temp.csv', sep=',', header=None)\n",
        "\n",
        "# set columns and index\n",
        "df.columns = ['case_id', 'type'] + ['a' + str(x) for x in range(1,31)]\n",
        "df.set_index ('case_id', inplace=True, drop=True) "
      ]
    },
    {
      "cell_type": "code",
      "execution_count": null,
      "metadata": {
        "colab": {
          "base_uri": "https://localhost:8080/",
          "height": 267
        },
        "id": "GPEK3cgvlMTk",
        "outputId": "36426388-0e49-4d30-c4c8-0e1f6e3051d3"
      },
      "outputs": [
        {
          "output_type": "execute_result",
          "data": {
            "text/plain": [
              "         type     a1     a2      a3      a4       a5       a6      a7  \\\n",
              "case_id                                                                 \n",
              "842302      M  17.99  10.38  122.80  1001.0  0.11840  0.27760  0.3001   \n",
              "842517      M  20.57  17.77  132.90  1326.0  0.08474  0.07864  0.0869   \n",
              "84300903    M  19.69  21.25  130.00  1203.0  0.10960  0.15990  0.1974   \n",
              "84348301    M  11.42  20.38   77.58   386.1  0.14250  0.28390  0.2414   \n",
              "84358402    M  20.29  14.34  135.10  1297.0  0.10030  0.13280  0.1980   \n",
              "\n",
              "               a8      a9  ...    a21    a22     a23     a24     a25     a26  \\\n",
              "case_id                    ...                                                 \n",
              "842302    0.14710  0.2419  ...  25.38  17.33  184.60  2019.0  0.1622  0.6656   \n",
              "842517    0.07017  0.1812  ...  24.99  23.41  158.80  1956.0  0.1238  0.1866   \n",
              "84300903  0.12790  0.2069  ...  23.57  25.53  152.50  1709.0  0.1444  0.4245   \n",
              "84348301  0.10520  0.2597  ...  14.91  26.50   98.87   567.7  0.2098  0.8663   \n",
              "84358402  0.10430  0.1809  ...  22.54  16.67  152.20  1575.0  0.1374  0.2050   \n",
              "\n",
              "             a27     a28     a29      a30  \n",
              "case_id                                    \n",
              "842302    0.7119  0.2654  0.4601  0.11890  \n",
              "842517    0.2416  0.1860  0.2750  0.08902  \n",
              "84300903  0.4504  0.2430  0.3613  0.08758  \n",
              "84348301  0.6869  0.2575  0.6638  0.17300  \n",
              "84358402  0.4000  0.1625  0.2364  0.07678  \n",
              "\n",
              "[5 rows x 31 columns]"
            ],
            "text/html": [
              "\n",
              "  <div id=\"df-d4aaaaab-1807-4d30-8aec-ec48dbdb702b\">\n",
              "    <div class=\"colab-df-container\">\n",
              "      <div>\n",
              "<style scoped>\n",
              "    .dataframe tbody tr th:only-of-type {\n",
              "        vertical-align: middle;\n",
              "    }\n",
              "\n",
              "    .dataframe tbody tr th {\n",
              "        vertical-align: top;\n",
              "    }\n",
              "\n",
              "    .dataframe thead th {\n",
              "        text-align: right;\n",
              "    }\n",
              "</style>\n",
              "<table border=\"1\" class=\"dataframe\">\n",
              "  <thead>\n",
              "    <tr style=\"text-align: right;\">\n",
              "      <th></th>\n",
              "      <th>type</th>\n",
              "      <th>a1</th>\n",
              "      <th>a2</th>\n",
              "      <th>a3</th>\n",
              "      <th>a4</th>\n",
              "      <th>a5</th>\n",
              "      <th>a6</th>\n",
              "      <th>a7</th>\n",
              "      <th>a8</th>\n",
              "      <th>a9</th>\n",
              "      <th>...</th>\n",
              "      <th>a21</th>\n",
              "      <th>a22</th>\n",
              "      <th>a23</th>\n",
              "      <th>a24</th>\n",
              "      <th>a25</th>\n",
              "      <th>a26</th>\n",
              "      <th>a27</th>\n",
              "      <th>a28</th>\n",
              "      <th>a29</th>\n",
              "      <th>a30</th>\n",
              "    </tr>\n",
              "    <tr>\n",
              "      <th>case_id</th>\n",
              "      <th></th>\n",
              "      <th></th>\n",
              "      <th></th>\n",
              "      <th></th>\n",
              "      <th></th>\n",
              "      <th></th>\n",
              "      <th></th>\n",
              "      <th></th>\n",
              "      <th></th>\n",
              "      <th></th>\n",
              "      <th></th>\n",
              "      <th></th>\n",
              "      <th></th>\n",
              "      <th></th>\n",
              "      <th></th>\n",
              "      <th></th>\n",
              "      <th></th>\n",
              "      <th></th>\n",
              "      <th></th>\n",
              "      <th></th>\n",
              "      <th></th>\n",
              "    </tr>\n",
              "  </thead>\n",
              "  <tbody>\n",
              "    <tr>\n",
              "      <th>842302</th>\n",
              "      <td>M</td>\n",
              "      <td>17.99</td>\n",
              "      <td>10.38</td>\n",
              "      <td>122.80</td>\n",
              "      <td>1001.0</td>\n",
              "      <td>0.11840</td>\n",
              "      <td>0.27760</td>\n",
              "      <td>0.3001</td>\n",
              "      <td>0.14710</td>\n",
              "      <td>0.2419</td>\n",
              "      <td>...</td>\n",
              "      <td>25.38</td>\n",
              "      <td>17.33</td>\n",
              "      <td>184.60</td>\n",
              "      <td>2019.0</td>\n",
              "      <td>0.1622</td>\n",
              "      <td>0.6656</td>\n",
              "      <td>0.7119</td>\n",
              "      <td>0.2654</td>\n",
              "      <td>0.4601</td>\n",
              "      <td>0.11890</td>\n",
              "    </tr>\n",
              "    <tr>\n",
              "      <th>842517</th>\n",
              "      <td>M</td>\n",
              "      <td>20.57</td>\n",
              "      <td>17.77</td>\n",
              "      <td>132.90</td>\n",
              "      <td>1326.0</td>\n",
              "      <td>0.08474</td>\n",
              "      <td>0.07864</td>\n",
              "      <td>0.0869</td>\n",
              "      <td>0.07017</td>\n",
              "      <td>0.1812</td>\n",
              "      <td>...</td>\n",
              "      <td>24.99</td>\n",
              "      <td>23.41</td>\n",
              "      <td>158.80</td>\n",
              "      <td>1956.0</td>\n",
              "      <td>0.1238</td>\n",
              "      <td>0.1866</td>\n",
              "      <td>0.2416</td>\n",
              "      <td>0.1860</td>\n",
              "      <td>0.2750</td>\n",
              "      <td>0.08902</td>\n",
              "    </tr>\n",
              "    <tr>\n",
              "      <th>84300903</th>\n",
              "      <td>M</td>\n",
              "      <td>19.69</td>\n",
              "      <td>21.25</td>\n",
              "      <td>130.00</td>\n",
              "      <td>1203.0</td>\n",
              "      <td>0.10960</td>\n",
              "      <td>0.15990</td>\n",
              "      <td>0.1974</td>\n",
              "      <td>0.12790</td>\n",
              "      <td>0.2069</td>\n",
              "      <td>...</td>\n",
              "      <td>23.57</td>\n",
              "      <td>25.53</td>\n",
              "      <td>152.50</td>\n",
              "      <td>1709.0</td>\n",
              "      <td>0.1444</td>\n",
              "      <td>0.4245</td>\n",
              "      <td>0.4504</td>\n",
              "      <td>0.2430</td>\n",
              "      <td>0.3613</td>\n",
              "      <td>0.08758</td>\n",
              "    </tr>\n",
              "    <tr>\n",
              "      <th>84348301</th>\n",
              "      <td>M</td>\n",
              "      <td>11.42</td>\n",
              "      <td>20.38</td>\n",
              "      <td>77.58</td>\n",
              "      <td>386.1</td>\n",
              "      <td>0.14250</td>\n",
              "      <td>0.28390</td>\n",
              "      <td>0.2414</td>\n",
              "      <td>0.10520</td>\n",
              "      <td>0.2597</td>\n",
              "      <td>...</td>\n",
              "      <td>14.91</td>\n",
              "      <td>26.50</td>\n",
              "      <td>98.87</td>\n",
              "      <td>567.7</td>\n",
              "      <td>0.2098</td>\n",
              "      <td>0.8663</td>\n",
              "      <td>0.6869</td>\n",
              "      <td>0.2575</td>\n",
              "      <td>0.6638</td>\n",
              "      <td>0.17300</td>\n",
              "    </tr>\n",
              "    <tr>\n",
              "      <th>84358402</th>\n",
              "      <td>M</td>\n",
              "      <td>20.29</td>\n",
              "      <td>14.34</td>\n",
              "      <td>135.10</td>\n",
              "      <td>1297.0</td>\n",
              "      <td>0.10030</td>\n",
              "      <td>0.13280</td>\n",
              "      <td>0.1980</td>\n",
              "      <td>0.10430</td>\n",
              "      <td>0.1809</td>\n",
              "      <td>...</td>\n",
              "      <td>22.54</td>\n",
              "      <td>16.67</td>\n",
              "      <td>152.20</td>\n",
              "      <td>1575.0</td>\n",
              "      <td>0.1374</td>\n",
              "      <td>0.2050</td>\n",
              "      <td>0.4000</td>\n",
              "      <td>0.1625</td>\n",
              "      <td>0.2364</td>\n",
              "      <td>0.07678</td>\n",
              "    </tr>\n",
              "  </tbody>\n",
              "</table>\n",
              "<p>5 rows × 31 columns</p>\n",
              "</div>\n",
              "      <button class=\"colab-df-convert\" onclick=\"convertToInteractive('df-d4aaaaab-1807-4d30-8aec-ec48dbdb702b')\"\n",
              "              title=\"Convert this dataframe to an interactive table.\"\n",
              "              style=\"display:none;\">\n",
              "        \n",
              "  <svg xmlns=\"http://www.w3.org/2000/svg\" height=\"24px\"viewBox=\"0 0 24 24\"\n",
              "       width=\"24px\">\n",
              "    <path d=\"M0 0h24v24H0V0z\" fill=\"none\"/>\n",
              "    <path d=\"M18.56 5.44l.94 2.06.94-2.06 2.06-.94-2.06-.94-.94-2.06-.94 2.06-2.06.94zm-11 1L8.5 8.5l.94-2.06 2.06-.94-2.06-.94L8.5 2.5l-.94 2.06-2.06.94zm10 10l.94 2.06.94-2.06 2.06-.94-2.06-.94-.94-2.06-.94 2.06-2.06.94z\"/><path d=\"M17.41 7.96l-1.37-1.37c-.4-.4-.92-.59-1.43-.59-.52 0-1.04.2-1.43.59L10.3 9.45l-7.72 7.72c-.78.78-.78 2.05 0 2.83L4 21.41c.39.39.9.59 1.41.59.51 0 1.02-.2 1.41-.59l7.78-7.78 2.81-2.81c.8-.78.8-2.07 0-2.86zM5.41 20L4 18.59l7.72-7.72 1.47 1.35L5.41 20z\"/>\n",
              "  </svg>\n",
              "      </button>\n",
              "      \n",
              "  <style>\n",
              "    .colab-df-container {\n",
              "      display:flex;\n",
              "      flex-wrap:wrap;\n",
              "      gap: 12px;\n",
              "    }\n",
              "\n",
              "    .colab-df-convert {\n",
              "      background-color: #E8F0FE;\n",
              "      border: none;\n",
              "      border-radius: 50%;\n",
              "      cursor: pointer;\n",
              "      display: none;\n",
              "      fill: #1967D2;\n",
              "      height: 32px;\n",
              "      padding: 0 0 0 0;\n",
              "      width: 32px;\n",
              "    }\n",
              "\n",
              "    .colab-df-convert:hover {\n",
              "      background-color: #E2EBFA;\n",
              "      box-shadow: 0px 1px 2px rgba(60, 64, 67, 0.3), 0px 1px 3px 1px rgba(60, 64, 67, 0.15);\n",
              "      fill: #174EA6;\n",
              "    }\n",
              "\n",
              "    [theme=dark] .colab-df-convert {\n",
              "      background-color: #3B4455;\n",
              "      fill: #D2E3FC;\n",
              "    }\n",
              "\n",
              "    [theme=dark] .colab-df-convert:hover {\n",
              "      background-color: #434B5C;\n",
              "      box-shadow: 0px 1px 3px 1px rgba(0, 0, 0, 0.15);\n",
              "      filter: drop-shadow(0px 1px 2px rgba(0, 0, 0, 0.3));\n",
              "      fill: #FFFFFF;\n",
              "    }\n",
              "  </style>\n",
              "\n",
              "      <script>\n",
              "        const buttonEl =\n",
              "          document.querySelector('#df-d4aaaaab-1807-4d30-8aec-ec48dbdb702b button.colab-df-convert');\n",
              "        buttonEl.style.display =\n",
              "          google.colab.kernel.accessAllowed ? 'block' : 'none';\n",
              "\n",
              "        async function convertToInteractive(key) {\n",
              "          const element = document.querySelector('#df-d4aaaaab-1807-4d30-8aec-ec48dbdb702b');\n",
              "          const dataTable =\n",
              "            await google.colab.kernel.invokeFunction('convertToInteractive',\n",
              "                                                     [key], {});\n",
              "          if (!dataTable) return;\n",
              "\n",
              "          const docLinkHtml = 'Like what you see? Visit the ' +\n",
              "            '<a target=\"_blank\" href=https://colab.research.google.com/notebooks/data_table.ipynb>data table notebook</a>'\n",
              "            + ' to learn more about interactive tables.';\n",
              "          element.innerHTML = '';\n",
              "          dataTable['output_type'] = 'display_data';\n",
              "          await google.colab.output.renderOutput(dataTable, element);\n",
              "          const docLink = document.createElement('div');\n",
              "          docLink.innerHTML = docLinkHtml;\n",
              "          element.appendChild(docLink);\n",
              "        }\n",
              "      </script>\n",
              "    </div>\n",
              "  </div>\n",
              "  "
            ]
          },
          "metadata": {},
          "execution_count": 4
        }
      ],
      "source": [
        "df.head()"
      ]
    },
    {
      "cell_type": "code",
      "execution_count": null,
      "metadata": {
        "colab": {
          "base_uri": "https://localhost:8080/"
        },
        "id": "1tIb2OGqlMas",
        "outputId": "51aa13c5-4319-4090-8e11-6c985c876c01"
      },
      "outputs": [
        {
          "output_type": "stream",
          "name": "stdout",
          "text": [
            "<class 'pandas.core.frame.DataFrame'>\n",
            "Int64Index: 569 entries, 842302 to 92751\n",
            "Data columns (total 31 columns):\n",
            " #   Column  Non-Null Count  Dtype  \n",
            "---  ------  --------------  -----  \n",
            " 0   type    569 non-null    object \n",
            " 1   a1      569 non-null    float64\n",
            " 2   a2      569 non-null    float64\n",
            " 3   a3      569 non-null    float64\n",
            " 4   a4      569 non-null    float64\n",
            " 5   a5      569 non-null    float64\n",
            " 6   a6      569 non-null    float64\n",
            " 7   a7      569 non-null    float64\n",
            " 8   a8      569 non-null    float64\n",
            " 9   a9      569 non-null    float64\n",
            " 10  a10     569 non-null    float64\n",
            " 11  a11     569 non-null    float64\n",
            " 12  a12     569 non-null    float64\n",
            " 13  a13     569 non-null    float64\n",
            " 14  a14     569 non-null    float64\n",
            " 15  a15     569 non-null    float64\n",
            " 16  a16     569 non-null    float64\n",
            " 17  a17     569 non-null    float64\n",
            " 18  a18     569 non-null    float64\n",
            " 19  a19     569 non-null    float64\n",
            " 20  a20     569 non-null    float64\n",
            " 21  a21     569 non-null    float64\n",
            " 22  a22     569 non-null    float64\n",
            " 23  a23     569 non-null    float64\n",
            " 24  a24     569 non-null    float64\n",
            " 25  a25     569 non-null    float64\n",
            " 26  a26     569 non-null    float64\n",
            " 27  a27     569 non-null    float64\n",
            " 28  a28     569 non-null    float64\n",
            " 29  a29     569 non-null    float64\n",
            " 30  a30     569 non-null    float64\n",
            "dtypes: float64(30), object(1)\n",
            "memory usage: 142.2+ KB\n"
          ]
        }
      ],
      "source": [
        "df.info()"
      ]
    },
    {
      "cell_type": "markdown",
      "metadata": {
        "id": "M65ABLSA_x-x"
      },
      "source": [
        "**note**: no null values"
      ]
    },
    {
      "cell_type": "markdown",
      "metadata": {
        "id": "X_yFQVpzg_le"
      },
      "source": [
        "# a\n",
        "**a)\tWe would like to perform a predictive modeling analysis on this same dataset using the a) decision tree, b) the k-NN technique and c) the logistic regression technique. Using the nested cross-validation technique, try to optimize the parameters of your classifiers in order to improve the performance of your classifiers (i.e., f1-score) as much as possible. Please make sure to always use a random state of “42” whenever applicable. What are your optimal parameters and what is the corresponding performance of these classifiers? Please provide screenshots of your code and explain the process you have followed.**\n",
        "\n",
        "part a is worth 25 points in total:\n",
        "* 7 points for correctly optimizing at least two parameters for the Decision Tree and providing screenshots/explaining what you are doing and the corresponding results\n",
        "* 7 points for correctly optimizing at least two parameters for the kNN and providing screenshots/explaining what you are doing and the corresponding results\n",
        "* 7 points for correctly optimizing at least two parameters for the Logistic Regression and providing screenshots/explaining what you are doing and the corresponding results\n",
        "* 4 points for contrasting their performance of all three algorithms and discussing which one would you prefer to use"
      ]
    },
    {
      "cell_type": "code",
      "execution_count": null,
      "metadata": {
        "id": "o9sFcgZvBfVr"
      },
      "outputs": [],
      "source": [
        "# make malignant into positive case\n",
        "df = df.replace({'type': {'M':1,'B':0}})\n",
        "\n",
        "# split into X and y\n",
        "target = 'type'\n",
        "X = df.drop(target, axis=1).copy()\n",
        "y = df[target].copy()"
      ]
    },
    {
      "cell_type": "code",
      "source": [
        "# scale the data\n",
        "scaler = preprocessing.StandardScaler()\n",
        "scaler.fit(X)\n",
        "X_std = scaler.transform(X)"
      ],
      "metadata": {
        "id": "YfWti4Espv_0"
      },
      "execution_count": null,
      "outputs": []
    },
    {
      "cell_type": "code",
      "execution_count": null,
      "metadata": {
        "id": "H-RsCZrlBVFj"
      },
      "outputs": [],
      "source": [
        "# folds for nested cross-validation\n",
        "inner_cv = model_selection.KFold(n_splits=5, shuffle=True, random_state=random_state)\n",
        "outer_cv = model_selection.KFold(n_splits=5, shuffle=True, random_state=random_state)\n",
        "\n",
        "# measure\n",
        "scoring = 'f1'"
      ]
    },
    {
      "cell_type": "markdown",
      "metadata": {
        "id": "PFSyGGI_hbu7"
      },
      "source": [
        "## Decision Tree"
      ]
    },
    {
      "cell_type": "code",
      "execution_count": null,
      "metadata": {
        "colab": {
          "base_uri": "https://localhost:8080/"
        },
        "id": "1hi8dGL7jNCA",
        "outputId": "2ff18cb6-b1b7-42a0-af11-eb1c82346978"
      },
      "outputs": [
        {
          "output_type": "stream",
          "name": "stdout",
          "text": [
            "Non-nested Tuning:\n",
            "  Model:  DecisionTreeClassifier(max_depth=5, min_samples_split=8, random_state=42)\n",
            "  Parameterization:  {'max_depth': 5, 'min_samples_split': 8}\n",
            "  Non-nested CV f1 score:  0.9307792540399402\n",
            "nested Tuning:\n",
            "  Nested CV f1 mean:  0.924362141740475  with st.dev (+/-):  0.009426492442464426\n"
          ]
        }
      ],
      "source": [
        "# create a model\n",
        "clf_tree = tree.DecisionTreeClassifier(random_state=random_state)\n",
        "\n",
        "# two parameters to optimize\n",
        "min_samples_split_list = [2, 4, 6, 8, 10]\n",
        "max_depth_list = [1, 2, 3, 4, 5, 6, 7, 8, 9, 10, 11, 12, 13, 14, 15, None]\n",
        "\n",
        "# select the optimal parameters\n",
        "gs_tree = model_selection.GridSearchCV(estimator=clf_tree,\n",
        "                                       param_grid=[{\n",
        "                                           'min_samples_split': min_samples_split_list,\n",
        "                                           'max_depth': max_depth_list}],\n",
        "                                       scoring=scoring,                                      \n",
        "                                       cv=inner_cv) \n",
        "\n",
        "\n",
        "gs_tree_fit = gs_tree.fit(X,y)\n",
        "\n",
        "print(\"Non-nested Tuning:\")\n",
        "print(\"  Model: \", gs_tree_fit.best_estimator_)\n",
        "print(\"  Parameterization: \", gs_tree_fit.best_params_)\n",
        "print(\"  Non-nested CV {} score: \".format(scoring), gs_tree_fit.best_score_)\n",
        "\n",
        "# generalization performance\n",
        "nested_gs_tree_fit = model_selection.cross_val_score(gs_tree_fit, \n",
        "                                                     X=X, \n",
        "                                                     y=y, \n",
        "                                                     scoring=scoring,\n",
        "                                                     cv=outer_cv)\n",
        "\n",
        "print(\"nested Tuning:\")\n",
        "print(\"  Nested CV {} mean: \".format(scoring), nested_gs_tree_fit.mean(), \" with st.dev (+/-): \", nested_gs_tree_fit.std())"
      ]
    },
    {
      "cell_type": "markdown",
      "metadata": {
        "id": "qk0GM61Vhbyb"
      },
      "source": [
        "## k-NN"
      ]
    },
    {
      "cell_type": "code",
      "execution_count": null,
      "metadata": {
        "colab": {
          "base_uri": "https://localhost:8080/"
        },
        "id": "MX5X37cvjNdw",
        "outputId": "3ce5a919-9aef-4978-d41d-19d0e0a037dc"
      },
      "outputs": [
        {
          "output_type": "stream",
          "name": "stdout",
          "text": [
            "Non-nested Tuning:\n",
            "  Model:  KNeighborsClassifier(n_jobs=-1, n_neighbors=11)\n",
            "  Parameterization:  {'n_neighbors': 11, 'weights': 'uniform'}\n",
            "  Non-nested CV f1 score:  0.9179772664824595\n",
            "\n",
            "Nested Tuning:\n",
            "  Nested CV f1 mean:  0.9016213789309269  with st.dev (+/-):  0.048704377110524257\n"
          ]
        }
      ],
      "source": [
        "clf_knn = neighbors.KNeighborsClassifier(\n",
        "    p=2,                     \n",
        "    metric='minkowski',\n",
        "    n_jobs=-1)\n",
        "\n",
        "# two parameters to optimize\n",
        "weights_list = ['uniform', 'distance']\n",
        "n_neighbors_list = [1, 2, 3, 4, 5, 6, 7, 8, 9, 10, 11, 12, 13, 14, 15]\n",
        "\n",
        "# select the optimal parameters\n",
        "gs_knn = model_selection.GridSearchCV(estimator=clf_knn,\n",
        "                                      param_grid=[{\n",
        "                                          'weights': weights_list,\n",
        "                                          'n_neighbors': n_neighbors_list}],\n",
        "                                      scoring=scoring,                                      \n",
        "                                      cv=inner_cv) \n",
        "\n",
        "\n",
        "gs_knn_fit = gs_knn.fit(X,y)\n",
        "\n",
        "print(\"Non-nested Tuning:\")\n",
        "print(\"  Model: \", gs_knn_fit.best_estimator_)\n",
        "print(\"  Parameterization: \", gs_knn_fit.best_params_)\n",
        "print(\"  Non-nested CV {} score: \".format(scoring), gs_knn_fit.best_score_)\n",
        "\n",
        "nested_gs_knn_fit= model_selection.cross_val_score(gs_knn_fit, \n",
        "                                                   X=X, \n",
        "                                                   y=y, \n",
        "                                                   scoring=scoring,\n",
        "                                                   cv=outer_cv)\n",
        "\n",
        "\n",
        "# generalization performance\n",
        "print(\"\\nNested Tuning:\")\n",
        "print(\"  Nested CV {} mean: \".format(scoring), nested_gs_knn_fit.mean(), \" with st.dev (+/-): \", nested_gs_knn_fit.std())"
      ]
    },
    {
      "cell_type": "markdown",
      "metadata": {
        "id": "xz4aAYxYhb5K"
      },
      "source": [
        "## Logistic Regression"
      ]
    },
    {
      "cell_type": "code",
      "execution_count": null,
      "metadata": {
        "id": "0PC4iAk8jN5D",
        "colab": {
          "base_uri": "https://localhost:8080/"
        },
        "outputId": "429409fc-8542-4459-a399-1ac61829e9eb"
      },
      "outputs": [
        {
          "output_type": "stream",
          "name": "stdout",
          "text": [
            "Non-nested Tuning:\n",
            "  Model:  LogisticRegression(C=12, max_iter=100000, penalty='l1', random_state=42,\n",
            "                   solver='liblinear')\n",
            "  Parameterization:  {'C': 12, 'penalty': 'l1'}\n",
            "  Non-nested CV f1 score:  0.9554785334598692\n",
            "\n",
            "Nested Tuning:\n",
            "  Nested CV f1 mean:  0.9507947241663167  with st.dev (+/-):  0.028210324572927197\n"
          ]
        }
      ],
      "source": [
        "clf_lr = linear_model.LogisticRegression(multi_class='auto',\n",
        "                                         max_iter=100000,\n",
        "                                         solver='liblinear',\n",
        "                                         random_state=random_state)\n",
        "\n",
        "# two parameters to optimize\n",
        "penalty_list = ['l2', 'l1']\n",
        "c_list = [1, 2, 3, 4, 5, 6, 7, 8, 9, 10, 11, 12, 13, 14, 15]\n",
        "\n",
        "\n",
        "# select the optimal parameters\n",
        "gs_lr = model_selection.GridSearchCV(\n",
        "    estimator=clf_lr,\n",
        "    param_grid=[{\n",
        "        'penalty': penalty_list,\n",
        "        'C': c_list}],\n",
        "    scoring=scoring,                                      \n",
        "    cv=inner_cv) \n",
        "\n",
        "gs_lr_fit = gs_lr.fit(X,y)\n",
        "\n",
        "print(\"Non-nested Tuning:\")\n",
        "print(\"  Model: \", gs_lr_fit.best_estimator_)\n",
        "print(\"  Parameterization: \", gs_lr_fit.best_params_)\n",
        "print(\"  Non-nested CV {} score: \".format(scoring), gs_lr_fit.best_score_)\n",
        "\n",
        "\n",
        "# generalization performance\n",
        "nested_gs_lr_fit= model_selection.cross_val_score(\n",
        "    gs_lr_fit, \n",
        "    X=X, \n",
        "    y=y, \n",
        "    scoring=scoring,\n",
        "    cv=outer_cv)\n",
        "\n",
        "print(\"\\nNested Tuning:\")\n",
        "print(\"  Nested CV {} mean: \".format(scoring), nested_gs_lr_fit.mean(), \" with st.dev (+/-): \", nested_gs_lr_fit.std())"
      ]
    },
    {
      "cell_type": "markdown",
      "metadata": {
        "id": "nfgP0MOzNxWg"
      },
      "source": [
        "## Modeling Discussion\n",
        "Our logistic regression with parameters c=12 and l1 regularization is our best model in terms of its generalization performance. This is because it had the highest f1 score on the nested portion of the CV. \n",
        "\n",
        "The decision tree with parameters max_depth=5 and min_samples_split=8 also had a good nested f1 score as well as a lower standard deviation in its nested f1 score. This means that we would expect more consist classification results when making out-of-sample predictions.\n",
        "\n",
        "Finally, our kNN model with n=11 and weights=11 still yielded a decent nested f1 score and would generalized relatively well if we needed to use it.\n",
        "\n",
        "---\n",
        "**Note**: We experimented with using a min-max scaled version of X. This yielded much better generalization performance for kNN (to be expected) and incrementally better performance for Logistic Regression. It did NOT change our final model selection (Logistic Regression), though it did yield slightly different parameterization (c=4, penalty=l1)\n",
        "\n",
        "In the end, we chose to compare the unscaled X results as we felt it was more in line with the homework assignment's instructions."
      ]
    },
    {
      "cell_type": "markdown",
      "metadata": {
        "id": "aVOjL0Jfg_om"
      },
      "source": [
        "# b\n",
        "**b)\tBuild and visualize a learning curve for the logistic regression technique (visualize the performance for both training and test data in the same plot). Please provide screenshots of your code and explain the process you have followed.**\n",
        "\n",
        "part b is worth 25 points in total:\n",
        "* 8 points for correct visualization of learning curve for in-sample sample performance – show the performance for 10 different sizes - provide screenshots of your code and explain the process you have followed.\n",
        "* 8 points for correct visualization of learning curve for out-sample sample performance – show the performance for 10 different sizes - provide screenshots of your code and explain the process you have followed.\t\n",
        "* 9 points for discussing what we can learn from this specific learning curve – what are the insights that can be drawn\n"
      ]
    },
    {
      "cell_type": "markdown",
      "metadata": {
        "id": "2B9_WM78h6h-"
      },
      "source": [
        "## Learning Curve for Logistic Regression"
      ]
    },
    {
      "cell_type": "code",
      "execution_count": null,
      "metadata": {
        "id": "6_tl_RZNjOcN"
      },
      "outputs": [],
      "source": [
        "def plot_learning_curve(estimator,\n",
        "            title,            \n",
        "            X, \n",
        "            y,             \n",
        "            ylim=None,        \n",
        "            cv=None,          \n",
        "            n_jobs=1,         \n",
        "            train_sizes=np.linspace(.1, 1.0, 10)): \n",
        "    plt.figure()                    \n",
        "    plt.title(title)                \n",
        "    if ylim is not None:            \n",
        "        plt.ylim(*ylim)\n",
        "    plt.xlabel(\"Training examples\") \n",
        "    plt.ylabel(\"F1 score\")             \n",
        "    \n",
        "    train_sizes, train_scores, test_scores = model_selection.learning_curve(estimator, \n",
        "                                  X, y,\n",
        "                                  cv=cv,    \n",
        "                                  n_jobs=n_jobs,\n",
        "                                  scoring=\"f1\",\n",
        "                                  train_sizes=train_sizes)\n",
        "    \n",
        "    train_scores_mean = np.mean(train_scores, axis=1) \n",
        "    train_scores_std = np.std(train_scores, axis=1)\n",
        "    test_scores_mean = np.mean(test_scores, axis=1)\n",
        "    test_scores_std = np.std(test_scores, axis=1)\n",
        "\n",
        "    plt.grid()                      \n",
        "\n",
        "    plt.fill_between(train_sizes,                         \n",
        "                     train_scores_mean - train_scores_std,   \n",
        "                     train_scores_mean + train_scores_std,   \n",
        "                     alpha=0.1,                 \n",
        "                     color=\"r\")                 \n",
        "    plt.fill_between(train_sizes, \n",
        "                     test_scores_mean - test_scores_std,\n",
        "                     test_scores_mean + test_scores_std, \n",
        "                     alpha=0.1,\n",
        "                     color=\"g\")            \n",
        "    \n",
        "    plt.plot(train_sizes,                       \n",
        "             train_scores_mean,               \n",
        "             'o-',                     \n",
        "             color=\"r\",                   \n",
        "             label=\"In-sample performance\")           \n",
        "    \n",
        "    plt.plot(train_sizes, \n",
        "             test_scores_mean, \n",
        "             'o-', \n",
        "             color=\"g\",                  \n",
        "             label=\"Out-of-sample performance\")\n",
        "\n",
        "    plt.legend(loc=\"best\")                     \n",
        "    plt.xticks(train_sizes)                    \n",
        "    return plt    \n",
        "  "
      ]
    },
    {
      "cell_type": "code",
      "execution_count": null,
      "metadata": {
        "id": "jRBqSgwNT8U6",
        "colab": {
          "base_uri": "https://localhost:8080/",
          "height": 295
        },
        "outputId": "205f308f-0292-4ae0-b5f0-17815a1af590"
      },
      "outputs": [
        {
          "output_type": "display_data",
          "data": {
            "text/plain": [
              "<Figure size 432x288 with 1 Axes>"
            ],
            "image/png": "[encoded data removed]"
          },
          "metadata": {
            "needs_background": "light"
          }
        }
      ],
      "source": [
        "from sklearn.linear_model import LogisticRegression\n",
        "from sklearn import neighbors\n",
        "import matplotlib.pyplot as plt\n",
        "\n",
        "title = \"Learning Curve (Logistic Regression)\"\n",
        "estimator = LogisticRegression()  \n",
        "# 10 estimators of size 40\n",
        "train_size_logistic = np.array([40,80,120,160,200,240,280,320,360,400])\n",
        "\n",
        "plot_learning_curve(estimator,      \n",
        "          title,          \n",
        "          X, \n",
        "          y,           \n",
        "          (0.8, 1.01),    \n",
        "          cv=inner_cv,          \n",
        "          n_jobs=4,       \n",
        "          train_sizes=train_size_logistic)       \n",
        "\n",
        "plt.show()                    "
      ]
    },
    {
      "cell_type": "markdown",
      "metadata": {
        "id": "Y3kqlDXdh6lI"
      },
      "source": [
        "## Learning Curve Discussion\n",
        "Interestingly, performance of the in-sample model become worse when the sample size increase. \n",
        "\n",
        "Performance for the out-sample grows until around 200 observations. As the line grows flat, it becomes not cost effective to increase performance through increasing sample size."
      ]
    },
    {
      "cell_type": "markdown",
      "metadata": {
        "id": "BatdbLxVg_rw"
      },
      "source": [
        "# c\n",
        "**c)\tBuild a fitting graph for different depths of the decision tree (visualize the performance for both training and test data in the same plot). Please provide screenshots of your code and explain the process you have followed.**\n",
        "\n",
        "part c is worth 25 points in total:\n",
        "* 8 points for correct visualization of fitting graph for in-sample sample performance – show the performance for 15 different values- provide screenshots of your code and explain the process you have followed\n",
        "* 8 points for correct visualization of fitting graph for out-of-sample performance – show the performance for 15 different values- provide screenshots of your code and explain the process you have followed\n",
        "* 9 points for discussing what we can learn from this specific fitting graph – what are the insights that can be drawn\n"
      ]
    },
    {
      "cell_type": "markdown",
      "metadata": {
        "id": "KCmgG-4sjUTH"
      },
      "source": [
        "## Fitting Curve for Decision Tree Depth"
      ]
    },
    {
      "cell_type": "code",
      "execution_count": null,
      "metadata": {
        "colab": {
          "base_uri": "https://localhost:8080/",
          "height": 297
        },
        "id": "R8T7EWLXjTgQ",
        "outputId": "5c2e9bb8-4a89-4a5f-b382-31ee8dc1e1ef"
      },
      "outputs": [
        {
          "output_type": "display_data",
          "data": {
            "text/plain": [
              "<Figure size 432x288 with 1 Axes>"
            ],
            "image/png": "[encoded data removed]"
          },
          "metadata": {
            "needs_background": "light"
          }
        }
      ],
      "source": [
        "X_train, X_test, y_train, y_test = model_selection.train_test_split(X, y, test_size=0.20, random_state=42)\n",
        "\n",
        "param_range = [1, 2, 3, 4, 5, 6, 7, 8, 9, 10, 11, 12, 13, 14, 15]\n",
        "\n",
        "# set the training and test scores to vary parameter values\n",
        "train_scores, test_scores = model_selection.validation_curve( \n",
        "                estimator=tree.DecisionTreeClassifier(random_state=0), \n",
        "                X=X_train, \n",
        "                y=y_train,\n",
        "                param_name=\"max_depth\", \n",
        "                param_range=param_range,\n",
        "                cv=10,                  \n",
        "                scoring=\"f1\",\n",
        "                n_jobs=4)\n",
        "\n",
        "train_mean = np.mean(train_scores, axis=1)\n",
        "train_std = np.std(train_scores, axis=1)\n",
        "test_mean = np.mean(test_scores, axis=1)\n",
        "test_std = np.std(test_scores, axis=1)\n",
        "\n",
        "plt.plot(param_range,                      \n",
        "         train_mean,                      \n",
        "         color='blue',                    \n",
        "         marker='o',                      \n",
        "         markersize=5,                    \n",
        "         label='In-sample performance')       \n",
        "\n",
        "\n",
        "plt.fill_between(param_range,             \n",
        "                 train_mean + train_std,  \n",
        "                 train_mean - train_std,  \n",
        "                 alpha=0.15,              \n",
        "                 color='blue')            \n",
        "\n",
        "plt.plot(param_range, \n",
        "         test_mean, \n",
        "         color='green', \n",
        "         linestyle='--', \n",
        "         marker='s', \n",
        "         markersize=5, \n",
        "         label='Out-of-sample performance')\n",
        "\n",
        "plt.fill_between(param_range, \n",
        "                 test_mean + test_std,\n",
        "                 test_mean - test_std, \n",
        "                 alpha=0.15, color='green')\n",
        "\n",
        "plt.grid()\n",
        "plt.xticks(range(1, 16))\n",
        "plt.legend(loc='lower right')\n",
        "plt.xlabel('max_depth')\n",
        "plt.ylabel('F1 score')\n",
        "plt.ylim([0.86, 1.02])\n",
        "plt.tight_layout()\n",
        "plt.show()            "
      ]
    },
    {
      "cell_type": "markdown",
      "metadata": {
        "id": "3jBhKIMSjTpg"
      },
      "source": [
        "## Fitting Curve Discussion\n",
        "For the in-sample part, we consider f1 score. We first used \n",
        "train_test_split to split the imported data into two datasets with test set equals to 20 and random state equals to 42. Then, we set 15 parameters for the training process and set the training score. With the calculated training score, we calculated the mean and standard deviation of the train f1 score. After that, we plotted the f1 means of cross-validation and filled the gap area with standard deviation. Finally, we set the grid distance/start/end line to make the visualization look better, expanding the grid height by 0.02 on each side compared by default grid height.  \n",
        "\n",
        "For the out-of-sample (validation accuracy) part, the process is very similar except with test scores. We calculated the mean and standard deviation of the test score. After that, we plotted the f1 means of cross-validation and filled the gap area with standard deviation. Finally, we set the grid distance/start/end line to make the visualization look better, expanding the grid height by 0.02 on each side compared by default grid height.  \n",
        "\n",
        "To summarize, we plotted a fitting curve for both in-sample and out-of-sample performance based on 15 different max_depth parameters, which decide the decision tree performance. The fitting curve between in-sample performance and out-of-sample performance has a big gap, but in general we see that max_depth of 3 is ideal for out-of-sample performance."
      ]
    },
    {
      "cell_type": "markdown",
      "metadata": {
        "id": "6HWgunfng_us"
      },
      "source": [
        "# d\n",
        "d)\tCreate an ROC curve for k-NN, decision tree, and logistic regression. Discuss the results. Which classifier would you prefer to choose? Please provide screenshots of your code and explain the process you have followed.\n",
        "\n",
        "part d is worth 25 points in total:\n",
        "* 5 points for correct visualization of ROC graph for kNN – use optimal kNN from part a\n",
        "* 5 points for correct visualization of ROC graph for Decision Tree – use optimal Decision Tree from part a\n",
        "* 5 points for correct visualization of ROC graph for Logistic Regression – use optimal Logistic Regression from part a\n",
        "* 2 points for showing all the ROC graphs in one single plot\n",
        "* 3 points for showing AUC estimators in the ROC graph\n",
        "* 5 points for discussing and correctly identifying which classifier you would use"
      ]
    },
    {
      "cell_type": "markdown",
      "metadata": {
        "id": "x79fQRuJjxxx"
      },
      "source": [
        "## ROC Graph for k-NN, Decision Tree, and Logistic Regression"
      ]
    },
    {
      "cell_type": "code",
      "execution_count": null,
      "metadata": {
        "id": "0YkDqOnQjx3g",
        "colab": {
          "base_uri": "https://localhost:8080/",
          "height": 366
        },
        "outputId": "c47611df-a3f1-48de-e69a-6aa4497f1684"
      },
      "outputs": [
        {
          "output_type": "stream",
          "name": "stdout",
          "text": [
            "10-fold cross validation:\n",
            "\n",
            "ROC AUC: 0.99 (+/- 0.01) [Logistic regression]\n",
            "ROC AUC: 0.92 (+/- 0.05) [Decision tree]\n",
            "ROC AUC: 0.97 (+/- 0.02) [kNN]\n"
          ]
        },
        {
          "output_type": "display_data",
          "data": {
            "text/plain": [
              "<Figure size 432x288 with 1 Axes>"
            ],
            "image/png": "[encoded data removed]"
          },
          "metadata": {
            "needs_background": "light"
          }
        }
      ],
      "source": [
        "# Logistic Regression Classifier\n",
        "clf1 = linear_model.LogisticRegression(C=12, max_iter=100000, penalty='l1', random_state=random_state, solver='liblinear')\n",
        "\n",
        "# Decision Tree Classifier\n",
        "clf2 = tree.DecisionTreeClassifier(max_depth=5, min_samples_split=8, random_state=random_state)\n",
        "\n",
        "# kNN Classifier\n",
        "clf3 = neighbors.KNeighborsClassifier(n_neighbors=11,\n",
        "                                     p=2, \n",
        "                                     metric='minkowski',\n",
        "                                     n_jobs=-1,\n",
        "                                     weights='uniform')\n",
        "\n",
        "# Label the classifiers\n",
        "clf_labels = ['Logistic regression', 'Decision tree', 'kNN']\n",
        "all_clf = [clf1, clf2, clf3]\n",
        "\n",
        "print('10-fold cross validation:\\n')\n",
        "for clf, label in zip([clf1, clf2, clf3], clf_labels):\n",
        "    scores = model_selection.cross_val_score(estimator=clf,\n",
        "                             X=X,\n",
        "                             y=y,\n",
        "                             cv=10,\n",
        "                             scoring='roc_auc')\n",
        "    print(\"ROC AUC: %0.2f (+/- %0.2f) [%s]\"\n",
        "          % (scores.mean(), scores.std(), label))\n",
        "\n",
        "colors = [ 'orange', 'blue', 'green']\n",
        "linestyles = [':', '--', '-.', '-']\n",
        "for clf, label, clr, ls in zip(all_clf,\n",
        "               clf_labels, colors, linestyles):\n",
        "    y_pred = clf.fit(X_train, y_train).predict_proba(X_test)[:, 1]\n",
        "    \n",
        "    fpr, tpr, thresholds = metrics.roc_curve(y_true=y_test,\n",
        "                                     y_score=y_pred)\n",
        "    roc_auc = metrics.auc(x=fpr, y=tpr)\n",
        "    plt.plot(fpr, tpr,\n",
        "             color=clr,\n",
        "             linestyle=ls,\n",
        "             label='%s (auc = %0.4f)' % (label, roc_auc))\n",
        "\n",
        "plt.legend(loc='lower right')\n",
        "plt.plot([0, 1], [0, 1],\n",
        "         linestyle='--',\n",
        "         color='gray',\n",
        "         linewidth=2)\n",
        "\n",
        "plt.xlim([-0.1, 1.1])\n",
        "plt.ylim([-0.1, 1.1])\n",
        "plt.grid(alpha=0.5)\n",
        "plt.xlabel('False positive rate (FPR)')\n",
        "plt.ylabel('True positive rate (TPR)')\n",
        "\n",
        "plt.show()"
      ]
    },
    {
      "cell_type": "markdown",
      "metadata": {
        "id": "jBdazBKFjx_t"
      },
      "source": [
        "## ROC Graph Discussion\n",
        "The ROC curve demonstrates the trade-off between True Postive and False Positive rate to illustrate the impact of different classification thesholds. Here, our area-under-the-curve (AUC) is highest for the kNN. This would potentially change our recommendation from the Logistic Regression to the kNN as it would be more robust under different thresholds. "
      ]
    }
  ],
  "metadata": {
    "colab": {
      "provenance": []
    },
    "kernelspec": {
      "display_name": "Python 3",
      "name": "python3"
    },
    "language_info": {
      "name": "python"
    }
  },
  "nbformat": 4,
  "nbformat_minor": 0
}